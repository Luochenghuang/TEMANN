{
 "cells": [
  {
   "cell_type": "code",
   "execution_count": 3,
   "metadata": {},
   "outputs": [],
   "source": [
    "from matplotlib import pyplot as plt\n",
    "%matplotlib inline"
   ]
  },
  {
   "cell_type": "code",
   "execution_count": 35,
   "metadata": {},
   "outputs": [],
   "source": [
    "from __future__ import print_function\n",
    "\n",
    "import os\n",
    "import subprocess\n",
    "\n",
    "import pandas as pd\n",
    "import numpy as np\n",
    "from sklearn.tree import DecisionTreeRegressor, export_graphviz\n",
    "from sklearn.preprocessing import Imputer\n",
    "from sklearn.model_selection import train_test_split"
   ]
  },
  {
   "cell_type": "code",
   "execution_count": 6,
   "metadata": {},
   "outputs": [],
   "source": [
    "file = '20160301_TE_survey_cleaned.csv'"
   ]
  },
  {
   "cell_type": "code",
   "execution_count": 7,
   "metadata": {},
   "outputs": [],
   "source": [
    "df = pd.read_csv(file)"
   ]
  },
  {
   "cell_type": "code",
   "execution_count": 8,
   "metadata": {},
   "outputs": [
    {
     "data": {
      "text/plain": [
       "count    1098.000000\n",
       "mean      -40.155270\n",
       "std       192.691410\n",
       "min      -752.196000\n",
       "25%      -163.359500\n",
       "50%       -67.600000\n",
       "75%        99.358325\n",
       "max      1235.430000\n",
       "Name: Seebeck(uV/K), dtype: float64"
      ]
     },
     "execution_count": 8,
     "metadata": {},
     "output_type": "execute_result"
    }
   ],
   "source": [
    "df['Seebeck(uV/K)'].describe()"
   ]
  },
  {
   "cell_type": "markdown",
   "metadata": {},
   "source": [
    "### For the decision tree we need to bin the target values, so that we create a mock classification problem."
   ]
  },
  {
   "cell_type": "code",
   "execution_count": 10,
   "metadata": {},
   "outputs": [],
   "source": [
    "df['bin'] = pd.cut(df['Seebeck(uV/K)'], 50) #Breaking the Seebeck column into 50\n",
    "                                            #bins, this number is arbitraty."
   ]
  },
  {
   "cell_type": "code",
   "execution_count": 11,
   "metadata": {},
   "outputs": [],
   "source": [
    "df = df.sort_values(['bin'], ascending = True) #sort the dataframe by ascending order\n",
    "                                                #of the bins."
   ]
  },
  {
   "cell_type": "code",
   "execution_count": 12,
   "metadata": {},
   "outputs": [
    {
     "data": {
      "text/plain": [
       "1098                     NaN\n",
       "1031    (-754.184, -712.443]\n",
       "328     (-672.691, -632.938]\n",
       "1032    (-632.938, -593.186]\n",
       "124     (-632.938, -593.186]\n",
       "Name: bin, dtype: category\n",
       "Categories (50, interval[float64]): [(-754.184, -712.443] < (-712.443, -672.691] < (-672.691, -632.938] < (-632.938, -593.186] ... (1076.42, 1116.172] < (1116.172, 1155.925] < (1155.925, 1195.677] < (1195.677, 1235.43]]"
      ]
     },
     "execution_count": 12,
     "metadata": {},
     "output_type": "execute_result"
    }
   ],
   "source": [
    "df['bin'].head()"
   ]
  },
  {
   "cell_type": "code",
   "execution_count": 19,
   "metadata": {},
   "outputs": [],
   "source": [
    "#Pulling the columns we're interested in using for our predictors.\n",
    "reduced_df = df[['Resist(Ohm.cm)', 'T(K)', 'Seebeck(uV/K)', 'average_atomic_volume', 'space_group', 'bin']]"
   ]
  },
  {
   "cell_type": "code",
   "execution_count": 20,
   "metadata": {},
   "outputs": [
    {
     "data": {
      "text/html": [
       "<div>\n",
       "<style scoped>\n",
       "    .dataframe tbody tr th:only-of-type {\n",
       "        vertical-align: middle;\n",
       "    }\n",
       "\n",
       "    .dataframe tbody tr th {\n",
       "        vertical-align: top;\n",
       "    }\n",
       "\n",
       "    .dataframe thead th {\n",
       "        text-align: right;\n",
       "    }\n",
       "</style>\n",
       "<table border=\"1\" class=\"dataframe\">\n",
       "  <thead>\n",
       "    <tr style=\"text-align: right;\">\n",
       "      <th></th>\n",
       "      <th>Resist(Ohm.cm)</th>\n",
       "      <th>T(K)</th>\n",
       "      <th>Seebeck(uV/K)</th>\n",
       "      <th>average_atomic_volume</th>\n",
       "      <th>space_group</th>\n",
       "      <th>bin</th>\n",
       "    </tr>\n",
       "  </thead>\n",
       "  <tbody>\n",
       "    <tr>\n",
       "      <th>1098</th>\n",
       "      <td>NaN</td>\n",
       "      <td>NaN</td>\n",
       "      <td>NaN</td>\n",
       "      <td>NaN</td>\n",
       "      <td>NaN</td>\n",
       "      <td>NaN</td>\n",
       "    </tr>\n",
       "    <tr>\n",
       "      <th>1031</th>\n",
       "      <td>2.918890</td>\n",
       "      <td>300.0</td>\n",
       "      <td>-752.196</td>\n",
       "      <td>13.5200</td>\n",
       "      <td>139.0</td>\n",
       "      <td>(-754.184, -712.443]</td>\n",
       "    </tr>\n",
       "    <tr>\n",
       "      <th>328</th>\n",
       "      <td>0.302535</td>\n",
       "      <td>300.0</td>\n",
       "      <td>-650.910</td>\n",
       "      <td>10.3485</td>\n",
       "      <td>62.0</td>\n",
       "      <td>(-672.691, -632.938]</td>\n",
       "    </tr>\n",
       "    <tr>\n",
       "      <th>1032</th>\n",
       "      <td>2.161640</td>\n",
       "      <td>400.0</td>\n",
       "      <td>-618.425</td>\n",
       "      <td>13.5200</td>\n",
       "      <td>139.0</td>\n",
       "      <td>(-632.938, -593.186]</td>\n",
       "    </tr>\n",
       "    <tr>\n",
       "      <th>124</th>\n",
       "      <td>0.460937</td>\n",
       "      <td>400.0</td>\n",
       "      <td>-600.164</td>\n",
       "      <td>10.3485</td>\n",
       "      <td>62.0</td>\n",
       "      <td>(-632.938, -593.186]</td>\n",
       "    </tr>\n",
       "  </tbody>\n",
       "</table>\n",
       "</div>"
      ],
      "text/plain": [
       "      Resist(Ohm.cm)   T(K)  Seebeck(uV/K)  average_atomic_volume  \\\n",
       "1098             NaN    NaN            NaN                    NaN   \n",
       "1031        2.918890  300.0       -752.196                13.5200   \n",
       "328         0.302535  300.0       -650.910                10.3485   \n",
       "1032        2.161640  400.0       -618.425                13.5200   \n",
       "124         0.460937  400.0       -600.164                10.3485   \n",
       "\n",
       "      space_group                   bin  \n",
       "1098          NaN                   NaN  \n",
       "1031        139.0  (-754.184, -712.443]  \n",
       "328          62.0  (-672.691, -632.938]  \n",
       "1032        139.0  (-632.938, -593.186]  \n",
       "124          62.0  (-632.938, -593.186]  "
      ]
     },
     "execution_count": 20,
     "metadata": {},
     "output_type": "execute_result"
    }
   ],
   "source": [
    "reduced_df.head()"
   ]
  },
  {
   "cell_type": "markdown",
   "metadata": {},
   "source": [
    "### I need to assign each bin a number.  I created a new column with these bin numbers."
   ]
  },
  {
   "cell_type": "code",
   "execution_count": 22,
   "metadata": {},
   "outputs": [],
   "source": [
    "def encode_target(df, target_column):\n",
    "    \"\"\"Add column to data that assigns integers to the binned Seebeck data\"\"\"\n",
    "    df_mod = df.copy()\n",
    "    targets = df_mod[target_column].unique()\n",
    "    map_to_int = {name: n for n, name in enumerate(targets)}\n",
    "    df_mod['Target'] = df_mod[target_column].replace(map_to_int)\n",
    "    \n",
    "    return (df_mod, targets)"
   ]
  },
  {
   "cell_type": "code",
   "execution_count": 23,
   "metadata": {},
   "outputs": [],
   "source": [
    "df2, targets = encode_target(reduced_df, 'bin')"
   ]
  },
  {
   "cell_type": "code",
   "execution_count": 24,
   "metadata": {},
   "outputs": [
    {
     "data": {
      "text/html": [
       "<div>\n",
       "<style scoped>\n",
       "    .dataframe tbody tr th:only-of-type {\n",
       "        vertical-align: middle;\n",
       "    }\n",
       "\n",
       "    .dataframe tbody tr th {\n",
       "        vertical-align: top;\n",
       "    }\n",
       "\n",
       "    .dataframe thead th {\n",
       "        text-align: right;\n",
       "    }\n",
       "</style>\n",
       "<table border=\"1\" class=\"dataframe\">\n",
       "  <thead>\n",
       "    <tr style=\"text-align: right;\">\n",
       "      <th></th>\n",
       "      <th>Resist(Ohm.cm)</th>\n",
       "      <th>T(K)</th>\n",
       "      <th>Seebeck(uV/K)</th>\n",
       "      <th>average_atomic_volume</th>\n",
       "      <th>space_group</th>\n",
       "      <th>bin</th>\n",
       "      <th>Target</th>\n",
       "    </tr>\n",
       "  </thead>\n",
       "  <tbody>\n",
       "    <tr>\n",
       "      <th>1098</th>\n",
       "      <td>NaN</td>\n",
       "      <td>NaN</td>\n",
       "      <td>NaN</td>\n",
       "      <td>NaN</td>\n",
       "      <td>NaN</td>\n",
       "      <td>NaN</td>\n",
       "      <td>0</td>\n",
       "    </tr>\n",
       "    <tr>\n",
       "      <th>1031</th>\n",
       "      <td>2.918890</td>\n",
       "      <td>300.0</td>\n",
       "      <td>-752.196</td>\n",
       "      <td>13.5200</td>\n",
       "      <td>139.0</td>\n",
       "      <td>(-754.184, -712.443]</td>\n",
       "      <td>1</td>\n",
       "    </tr>\n",
       "    <tr>\n",
       "      <th>328</th>\n",
       "      <td>0.302535</td>\n",
       "      <td>300.0</td>\n",
       "      <td>-650.910</td>\n",
       "      <td>10.3485</td>\n",
       "      <td>62.0</td>\n",
       "      <td>(-672.691, -632.938]</td>\n",
       "      <td>2</td>\n",
       "    </tr>\n",
       "    <tr>\n",
       "      <th>1032</th>\n",
       "      <td>2.161640</td>\n",
       "      <td>400.0</td>\n",
       "      <td>-618.425</td>\n",
       "      <td>13.5200</td>\n",
       "      <td>139.0</td>\n",
       "      <td>(-632.938, -593.186]</td>\n",
       "      <td>3</td>\n",
       "    </tr>\n",
       "    <tr>\n",
       "      <th>124</th>\n",
       "      <td>0.460937</td>\n",
       "      <td>400.0</td>\n",
       "      <td>-600.164</td>\n",
       "      <td>10.3485</td>\n",
       "      <td>62.0</td>\n",
       "      <td>(-632.938, -593.186]</td>\n",
       "      <td>3</td>\n",
       "    </tr>\n",
       "  </tbody>\n",
       "</table>\n",
       "</div>"
      ],
      "text/plain": [
       "      Resist(Ohm.cm)   T(K)  Seebeck(uV/K)  average_atomic_volume  \\\n",
       "1098             NaN    NaN            NaN                    NaN   \n",
       "1031        2.918890  300.0       -752.196                13.5200   \n",
       "328         0.302535  300.0       -650.910                10.3485   \n",
       "1032        2.161640  400.0       -618.425                13.5200   \n",
       "124         0.460937  400.0       -600.164                10.3485   \n",
       "\n",
       "      space_group                   bin  Target  \n",
       "1098          NaN                   NaN       0  \n",
       "1031        139.0  (-754.184, -712.443]       1  \n",
       "328          62.0  (-672.691, -632.938]       2  \n",
       "1032        139.0  (-632.938, -593.186]       3  \n",
       "124          62.0  (-632.938, -593.186]       3  "
      ]
     },
     "execution_count": 24,
     "metadata": {},
     "output_type": "execute_result"
    }
   ],
   "source": [
    "df2.head()"
   ]
  },
  {
   "cell_type": "code",
   "execution_count": 27,
   "metadata": {},
   "outputs": [],
   "source": [
    "#Clean up the NA values\n",
    "df3 = df2.dropna()"
   ]
  },
  {
   "cell_type": "code",
   "execution_count": 43,
   "metadata": {},
   "outputs": [],
   "source": [
    "#Break data into x and y\n",
    "df3_x = pd.DataFrame(df3[['Resist(Ohm.cm)', 'T(K)', 'average_atomic_volume', 'space_group']])\n",
    "df3_y = pd.DataFrame(df3['Target'])"
   ]
  },
  {
   "cell_type": "code",
   "execution_count": 59,
   "metadata": {},
   "outputs": [],
   "source": [
    "#this just makes it easy to call all x parameters later on.\n",
    "features = list(df3_x.columns[:4])"
   ]
  },
  {
   "cell_type": "code",
   "execution_count": 39,
   "metadata": {},
   "outputs": [
    {
     "name": "stdout",
     "output_type": "stream",
     "text": [
      "['Resist(Ohm.cm)', 'T(K)', 'average_atomic_volume', 'space_group']\n"
     ]
    }
   ],
   "source": [
    "print (features)"
   ]
  },
  {
   "cell_type": "code",
   "execution_count": 44,
   "metadata": {},
   "outputs": [],
   "source": [
    "#Split into test/train\n",
    "x_train, x_test = train_test_split(df3_x, test_size=0.2)\n",
    "y_train, y_test = train_test_split(df3_y, test_size=0.2)"
   ]
  },
  {
   "cell_type": "code",
   "execution_count": 50,
   "metadata": {},
   "outputs": [],
   "source": [
    "#Fit the decision tree,\n",
    "y_fit = y_train['Target']\n",
    "X_fit = x_train[features]\n",
    "dt = DecisionTreeRegressor(min_samples_split = 20, random_state = 99)\n",
    "dt_fit = dt.fit(X_fit, y_fit)"
   ]
  },
  {
   "cell_type": "code",
   "execution_count": 58,
   "metadata": {},
   "outputs": [
    {
     "name": "stdout",
     "output_type": "stream",
     "text": [
      "-0.33272193012680695\n"
     ]
    }
   ],
   "source": [
    "#Check the predictor.\n",
    "y_pred = y_test['Target']\n",
    "X_pred = x_test[features]\n",
    "dt_pred = dt_fit.score(X_pred, y_pred)\n",
    "print (dt_pred)"
   ]
  },
  {
   "cell_type": "code",
   "execution_count": 60,
   "metadata": {},
   "outputs": [],
   "source": [
    "#I was following along with a demo and the author mentioned a way to visalize\n",
    "#the tree.  I haven't been able to get this to work yet.\n",
    "def visualize_tree(tree, feature_names):\n",
    "    \"\"\"Create tree png using graphviz.\n",
    "\n",
    "    Args\n",
    "    ----\n",
    "    tree -- scikit-learn DecsisionTree.\n",
    "    feature_names -- list of feature names.\n",
    "    \"\"\"\n",
    "    with open(\"dt.dot\", 'w') as f:\n",
    "        export_graphviz(tree, out_file=f,\n",
    "                        feature_names=feature_names)\n",
    "\n",
    "    command = [\"dot\", \"-Tpng\", \"dt.dot\", \"-o\", \"dt.png\"]\n",
    "    try:\n",
    "        subprocess.check_call(command)\n",
    "    except:\n",
    "        exit(\"Could not run dot, ie graphviz, to \"\n",
    "             \"produce visualization\")"
   ]
  },
  {
   "cell_type": "code",
   "execution_count": 48,
   "metadata": {},
   "outputs": [],
   "source": [
    "visualize_tree(dt, features)"
   ]
  },
  {
   "cell_type": "code",
   "execution_count": null,
   "metadata": {},
   "outputs": [],
   "source": []
  }
 ],
 "metadata": {
  "kernelspec": {
   "display_name": "Python 3",
   "language": "python",
   "name": "python3"
  },
  "language_info": {
   "codemirror_mode": {
    "name": "ipython",
    "version": 3
   },
   "file_extension": ".py",
   "mimetype": "text/x-python",
   "name": "python",
   "nbconvert_exporter": "python",
   "pygments_lexer": "ipython3",
   "version": "3.6.3"
  }
 },
 "nbformat": 4,
 "nbformat_minor": 2
}
