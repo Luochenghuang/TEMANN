{
 "cells": [
  {
   "cell_type": "code",
   "execution_count": 1,
   "metadata": {},
   "outputs": [],
   "source": [
    "from matplotlib import pyplot as plt\n",
    "%matplotlib inline"
   ]
  },
  {
   "cell_type": "code",
   "execution_count": 168,
   "metadata": {},
   "outputs": [],
   "source": [
    "from __future__ import print_function\n",
    "\n",
    "import os\n",
    "import subprocess\n",
    "\n",
    "import pandas as pd\n",
    "import numpy as np\n",
    "from sklearn.tree import DecisionTreeRegressor, export_graphviz\n",
    "from sklearn.tree import DecisionTreeClassifier\n",
    "from sklearn.preprocessing import Imputer\n",
    "from sklearn.model_selection import train_test_split\n",
    "from sklearn.ensemble import RandomForestRegressor\n",
    "from sklearn.ensemble import RandomForestClassifier\n",
    "from sklearn.metrics import accuracy_score"
   ]
  },
  {
   "cell_type": "code",
   "execution_count": 3,
   "metadata": {},
   "outputs": [],
   "source": [
    "file = '20160301_TE_survey_cleaned.csv'"
   ]
  },
  {
   "cell_type": "code",
   "execution_count": 4,
   "metadata": {},
   "outputs": [],
   "source": [
    "df = pd.read_csv(file)"
   ]
  },
  {
   "cell_type": "code",
   "execution_count": 36,
   "metadata": {},
   "outputs": [
    {
     "data": {
      "text/plain": [
       "array(['ID', 'T(K)', 'Z*10^-4 reported', 'Resist(Ohm.cm)',\n",
       "       'Seebeck(uV/K)', 'kappaZT', 'Unnamed: 6', 'Resist(400K)',\n",
       "       'Seebeck(400K)', 'Pf(W/K^2/m)', 'ZT', 'kappa(W/mK)', 'x',\n",
       "       'Formula', 'series', 'T_Max', 'family', 'Unnamed: 17',\n",
       "       'Unnamed: 18', 'Conduct(S/cm)', 'Power_Factor*T_(W/mK)',\n",
       "       'preparative_route', 'final_form', 'cell_volume(A^3)',\n",
       "       'formula_units_per_cell', 'atoms_per_formula_unit',\n",
       "       'total_atoms_per_unit_cell', 'average_atomic_volume',\n",
       "       'ICSD_of_structure', 'temp of ICSD (K)', 'S^2', 'ke/ktotal',\n",
       "       'space_group', 'number_symmetry_elements', 'Unnamed: 34',\n",
       "       'Unnamed: 35', 'bin'], dtype=object)"
      ]
     },
     "execution_count": 36,
     "metadata": {},
     "output_type": "execute_result"
    }
   ],
   "source": [
    "df.columns.values"
   ]
  },
  {
   "cell_type": "code",
   "execution_count": 5,
   "metadata": {},
   "outputs": [
    {
     "data": {
      "text/plain": [
       "count    1098.000000\n",
       "mean      -40.155270\n",
       "std       192.691410\n",
       "min      -752.196000\n",
       "25%      -163.359500\n",
       "50%       -67.600000\n",
       "75%        99.358325\n",
       "max      1235.430000\n",
       "Name: Seebeck(uV/K), dtype: float64"
      ]
     },
     "execution_count": 5,
     "metadata": {},
     "output_type": "execute_result"
    }
   ],
   "source": [
    "df['Seebeck(uV/K)'].describe()"
   ]
  },
  {
   "cell_type": "markdown",
   "metadata": {},
   "source": [
    "### For the decision tree we need to bin the target values, so that we create a mock classification problem."
   ]
  },
  {
   "cell_type": "code",
   "execution_count": 6,
   "metadata": {},
   "outputs": [],
   "source": [
    "df['bin'] = pd.cut(df['Seebeck(uV/K)'], 50) #Breaking the Seebeck column into 50\n",
    "                                            #bins, this number is arbitraty."
   ]
  },
  {
   "cell_type": "code",
   "execution_count": 7,
   "metadata": {},
   "outputs": [],
   "source": [
    "df = df.sort_values(['bin'], ascending = True) #sort the dataframe by ascending order\n",
    "                                                #of the bins."
   ]
  },
  {
   "cell_type": "code",
   "execution_count": 8,
   "metadata": {},
   "outputs": [
    {
     "data": {
      "text/plain": [
       "1098                     NaN\n",
       "1031    (-754.184, -712.443]\n",
       "328     (-672.691, -632.938]\n",
       "1032    (-632.938, -593.186]\n",
       "124     (-632.938, -593.186]\n",
       "Name: bin, dtype: category\n",
       "Categories (50, interval[float64]): [(-754.184, -712.443] < (-712.443, -672.691] < (-672.691, -632.938] < (-632.938, -593.186] ... (1076.42, 1116.172] < (1116.172, 1155.925] < (1155.925, 1195.677] < (1195.677, 1235.43]]"
      ]
     },
     "execution_count": 8,
     "metadata": {},
     "output_type": "execute_result"
    }
   ],
   "source": [
    "df['bin'].head()"
   ]
  },
  {
   "cell_type": "code",
   "execution_count": 9,
   "metadata": {},
   "outputs": [],
   "source": [
    "#Pulling the columns we're interested in using for our predictors.\n",
    "reduced_df = df[['Resist(Ohm.cm)', 'T(K)', 'Seebeck(uV/K)', 'average_atomic_volume', 'space_group', 'bin']]"
   ]
  },
  {
   "cell_type": "code",
   "execution_count": 10,
   "metadata": {},
   "outputs": [
    {
     "data": {
      "text/html": [
       "<div>\n",
       "<style scoped>\n",
       "    .dataframe tbody tr th:only-of-type {\n",
       "        vertical-align: middle;\n",
       "    }\n",
       "\n",
       "    .dataframe tbody tr th {\n",
       "        vertical-align: top;\n",
       "    }\n",
       "\n",
       "    .dataframe thead th {\n",
       "        text-align: right;\n",
       "    }\n",
       "</style>\n",
       "<table border=\"1\" class=\"dataframe\">\n",
       "  <thead>\n",
       "    <tr style=\"text-align: right;\">\n",
       "      <th></th>\n",
       "      <th>Resist(Ohm.cm)</th>\n",
       "      <th>T(K)</th>\n",
       "      <th>Seebeck(uV/K)</th>\n",
       "      <th>average_atomic_volume</th>\n",
       "      <th>space_group</th>\n",
       "      <th>bin</th>\n",
       "    </tr>\n",
       "  </thead>\n",
       "  <tbody>\n",
       "    <tr>\n",
       "      <th>1098</th>\n",
       "      <td>NaN</td>\n",
       "      <td>NaN</td>\n",
       "      <td>NaN</td>\n",
       "      <td>NaN</td>\n",
       "      <td>NaN</td>\n",
       "      <td>NaN</td>\n",
       "    </tr>\n",
       "    <tr>\n",
       "      <th>1031</th>\n",
       "      <td>2.918890</td>\n",
       "      <td>300.0</td>\n",
       "      <td>-752.196</td>\n",
       "      <td>13.5200</td>\n",
       "      <td>139.0</td>\n",
       "      <td>(-754.184, -712.443]</td>\n",
       "    </tr>\n",
       "    <tr>\n",
       "      <th>328</th>\n",
       "      <td>0.302535</td>\n",
       "      <td>300.0</td>\n",
       "      <td>-650.910</td>\n",
       "      <td>10.3485</td>\n",
       "      <td>62.0</td>\n",
       "      <td>(-672.691, -632.938]</td>\n",
       "    </tr>\n",
       "    <tr>\n",
       "      <th>1032</th>\n",
       "      <td>2.161640</td>\n",
       "      <td>400.0</td>\n",
       "      <td>-618.425</td>\n",
       "      <td>13.5200</td>\n",
       "      <td>139.0</td>\n",
       "      <td>(-632.938, -593.186]</td>\n",
       "    </tr>\n",
       "    <tr>\n",
       "      <th>124</th>\n",
       "      <td>0.460937</td>\n",
       "      <td>400.0</td>\n",
       "      <td>-600.164</td>\n",
       "      <td>10.3485</td>\n",
       "      <td>62.0</td>\n",
       "      <td>(-632.938, -593.186]</td>\n",
       "    </tr>\n",
       "  </tbody>\n",
       "</table>\n",
       "</div>"
      ],
      "text/plain": [
       "      Resist(Ohm.cm)   T(K)  Seebeck(uV/K)  average_atomic_volume  \\\n",
       "1098             NaN    NaN            NaN                    NaN   \n",
       "1031        2.918890  300.0       -752.196                13.5200   \n",
       "328         0.302535  300.0       -650.910                10.3485   \n",
       "1032        2.161640  400.0       -618.425                13.5200   \n",
       "124         0.460937  400.0       -600.164                10.3485   \n",
       "\n",
       "      space_group                   bin  \n",
       "1098          NaN                   NaN  \n",
       "1031        139.0  (-754.184, -712.443]  \n",
       "328          62.0  (-672.691, -632.938]  \n",
       "1032        139.0  (-632.938, -593.186]  \n",
       "124          62.0  (-632.938, -593.186]  "
      ]
     },
     "execution_count": 10,
     "metadata": {},
     "output_type": "execute_result"
    }
   ],
   "source": [
    "reduced_df.head()"
   ]
  },
  {
   "cell_type": "markdown",
   "metadata": {},
   "source": [
    "### I need to assign each bin a number.  I created a new column with these bin numbers."
   ]
  },
  {
   "cell_type": "code",
   "execution_count": 11,
   "metadata": {},
   "outputs": [],
   "source": [
    "def encode_target(df, target_column):\n",
    "    \"\"\"Add column to data that assigns integers to the binned Seebeck data\"\"\"\n",
    "    df_mod = df.copy()\n",
    "    targets = df_mod[target_column].unique()\n",
    "    map_to_int = {name: n for n, name in enumerate(targets)}\n",
    "    df_mod['Target'] = df_mod[target_column].replace(map_to_int)\n",
    "    \n",
    "    return (df_mod, targets)"
   ]
  },
  {
   "cell_type": "code",
   "execution_count": 12,
   "metadata": {},
   "outputs": [],
   "source": [
    "df2, targets = encode_target(reduced_df, 'bin')"
   ]
  },
  {
   "cell_type": "code",
   "execution_count": 13,
   "metadata": {},
   "outputs": [
    {
     "data": {
      "text/html": [
       "<div>\n",
       "<style scoped>\n",
       "    .dataframe tbody tr th:only-of-type {\n",
       "        vertical-align: middle;\n",
       "    }\n",
       "\n",
       "    .dataframe tbody tr th {\n",
       "        vertical-align: top;\n",
       "    }\n",
       "\n",
       "    .dataframe thead th {\n",
       "        text-align: right;\n",
       "    }\n",
       "</style>\n",
       "<table border=\"1\" class=\"dataframe\">\n",
       "  <thead>\n",
       "    <tr style=\"text-align: right;\">\n",
       "      <th></th>\n",
       "      <th>Resist(Ohm.cm)</th>\n",
       "      <th>T(K)</th>\n",
       "      <th>Seebeck(uV/K)</th>\n",
       "      <th>average_atomic_volume</th>\n",
       "      <th>space_group</th>\n",
       "      <th>bin</th>\n",
       "      <th>Target</th>\n",
       "    </tr>\n",
       "  </thead>\n",
       "  <tbody>\n",
       "    <tr>\n",
       "      <th>1098</th>\n",
       "      <td>NaN</td>\n",
       "      <td>NaN</td>\n",
       "      <td>NaN</td>\n",
       "      <td>NaN</td>\n",
       "      <td>NaN</td>\n",
       "      <td>NaN</td>\n",
       "      <td>0</td>\n",
       "    </tr>\n",
       "    <tr>\n",
       "      <th>1031</th>\n",
       "      <td>2.918890</td>\n",
       "      <td>300.0</td>\n",
       "      <td>-752.196</td>\n",
       "      <td>13.5200</td>\n",
       "      <td>139.0</td>\n",
       "      <td>(-754.184, -712.443]</td>\n",
       "      <td>1</td>\n",
       "    </tr>\n",
       "    <tr>\n",
       "      <th>328</th>\n",
       "      <td>0.302535</td>\n",
       "      <td>300.0</td>\n",
       "      <td>-650.910</td>\n",
       "      <td>10.3485</td>\n",
       "      <td>62.0</td>\n",
       "      <td>(-672.691, -632.938]</td>\n",
       "      <td>2</td>\n",
       "    </tr>\n",
       "    <tr>\n",
       "      <th>1032</th>\n",
       "      <td>2.161640</td>\n",
       "      <td>400.0</td>\n",
       "      <td>-618.425</td>\n",
       "      <td>13.5200</td>\n",
       "      <td>139.0</td>\n",
       "      <td>(-632.938, -593.186]</td>\n",
       "      <td>3</td>\n",
       "    </tr>\n",
       "    <tr>\n",
       "      <th>124</th>\n",
       "      <td>0.460937</td>\n",
       "      <td>400.0</td>\n",
       "      <td>-600.164</td>\n",
       "      <td>10.3485</td>\n",
       "      <td>62.0</td>\n",
       "      <td>(-632.938, -593.186]</td>\n",
       "      <td>3</td>\n",
       "    </tr>\n",
       "  </tbody>\n",
       "</table>\n",
       "</div>"
      ],
      "text/plain": [
       "      Resist(Ohm.cm)   T(K)  Seebeck(uV/K)  average_atomic_volume  \\\n",
       "1098             NaN    NaN            NaN                    NaN   \n",
       "1031        2.918890  300.0       -752.196                13.5200   \n",
       "328         0.302535  300.0       -650.910                10.3485   \n",
       "1032        2.161640  400.0       -618.425                13.5200   \n",
       "124         0.460937  400.0       -600.164                10.3485   \n",
       "\n",
       "      space_group                   bin  Target  \n",
       "1098          NaN                   NaN       0  \n",
       "1031        139.0  (-754.184, -712.443]       1  \n",
       "328          62.0  (-672.691, -632.938]       2  \n",
       "1032        139.0  (-632.938, -593.186]       3  \n",
       "124          62.0  (-632.938, -593.186]       3  "
      ]
     },
     "execution_count": 13,
     "metadata": {},
     "output_type": "execute_result"
    }
   ],
   "source": [
    "df2.head()"
   ]
  },
  {
   "cell_type": "code",
   "execution_count": 14,
   "metadata": {},
   "outputs": [],
   "source": [
    "#Clean up the NA values\n",
    "df3 = df2.dropna()"
   ]
  },
  {
   "cell_type": "code",
   "execution_count": 124,
   "metadata": {},
   "outputs": [],
   "source": [
    "#Break data into x and y\n",
    "df3_x = pd.DataFrame(df3[['Resist(Ohm.cm)', 'T(K)', 'average_atomic_volume', 'space_group']])\n",
    "df3_y = pd.DataFrame(df3['Target'])\n",
    "df3_reg_y = pd.DataFrame(df3['Seebeck(uV/K)'])"
   ]
  },
  {
   "cell_type": "code",
   "execution_count": 16,
   "metadata": {},
   "outputs": [],
   "source": [
    "#this just makes it easy to call all x parameters later on.\n",
    "features = list(df3_x.columns[:4])"
   ]
  },
  {
   "cell_type": "code",
   "execution_count": 83,
   "metadata": {},
   "outputs": [
    {
     "name": "stdout",
     "output_type": "stream",
     "text": [
      "['Resist(Ohm.cm)', 'T(K)', 'average_atomic_volume', 'space_group']\n"
     ]
    }
   ],
   "source": [
    "print (features)"
   ]
  },
  {
   "cell_type": "code",
   "execution_count": 84,
   "metadata": {},
   "outputs": [],
   "source": [
    "#Split into test/train\n",
    "x_train, x_test = train_test_split(df3_x, test_size=0.2)\n",
    "y_train, y_test = train_test_split(df3_y, test_size=0.2)"
   ]
  },
  {
   "cell_type": "code",
   "execution_count": 121,
   "metadata": {},
   "outputs": [],
   "source": [
    "#Fit the decision tree,\n",
    "#1st iteration dt = DecisionTreeRegressor(min_samples_split = 20, random_state = 99)\n",
    "#Predictor gets better when max depth is decreased, but you loose too much info after a certain point.\n",
    "y_fit_cla = y_train['Target']\n",
    "X_fit_cla = x_train[features]\n",
    "dt_cla = DecisionTreeClassifier(max_depth = 10, random_state = 99)\n",
    "dt_fit_cla = dt_cla.fit(X_fit_cla, y_fit_cla)"
   ]
  },
  {
   "cell_type": "code",
   "execution_count": 122,
   "metadata": {},
   "outputs": [
    {
     "name": "stdout",
     "output_type": "stream",
     "text": [
      "0.07009345794392523\n"
     ]
    }
   ],
   "source": [
    "dt_cla_pred = dt_cla.predict(x_test[features])\n",
    "score = accuracy_score(y_test, dt_pred)\n",
    "print(score)"
   ]
  },
  {
   "cell_type": "code",
   "execution_count": 125,
   "metadata": {},
   "outputs": [],
   "source": [
    "#Split into test/train\n",
    "x_train_reg, x_test_reg = train_test_split(df3_x, test_size=0.2)\n",
    "y_train_reg, y_test_reg = train_test_split(df3_reg_y, test_size=0.2)"
   ]
  },
  {
   "cell_type": "code",
   "execution_count": 170,
   "metadata": {},
   "outputs": [],
   "source": [
    "#Fit the decision tree,\n",
    "#1st iteration dt = DecisionTreeRegressor(min_samples_split = 20, random_state = 99)\n",
    "#Predictor gets better when max depth is decreased, but you loose too much info after a certain point.\n",
    "y_fit = y_train_reg['Seebeck(uV/K)']\n",
    "X_fit = x_train[features]\n",
    "dt = DecisionTreeRegressor(max_depth = 10, random_state = 99)\n",
    "dt_fit = dt.fit(x_train_reg, y_train_reg)"
   ]
  },
  {
   "cell_type": "code",
   "execution_count": 171,
   "metadata": {},
   "outputs": [
    {
     "name": "stdout",
     "output_type": "stream",
     "text": [
      "-0.6167586431370182\n"
     ]
    }
   ],
   "source": [
    "#Check the predictor.\n",
    "dt_pred = dt.predict(x_test[features])\n",
    "score = dt.score(x_test_reg, y_test_reg)\n",
    "print (score)"
   ]
  },
  {
   "cell_type": "code",
   "execution_count": 134,
   "metadata": {},
   "outputs": [
    {
     "name": "stdout",
     "output_type": "stream",
     "text": [
      "-0.14706159007854258\n"
     ]
    }
   ],
   "source": [
    "#Random Forest is a different call, lets  try this out.\n",
    "rdt = RandomForestRegressor(random_state=1010, n_estimators=100, max_depth = 10)\n",
    "rdt_fit = rdt.fit(x_train_reg[features], y_train_reg['Seebeck(uV/K)'])\n",
    "score = rdt.score(x_test_reg, y_test_reg)\n",
    "print (score)"
   ]
  },
  {
   "cell_type": "code",
   "execution_count": null,
   "metadata": {},
   "outputs": [],
   "source": []
  },
  {
   "cell_type": "code",
   "execution_count": 169,
   "metadata": {},
   "outputs": [
    {
     "name": "stdout",
     "output_type": "stream",
     "text": [
      "0.0514018691588785\n"
     ]
    }
   ],
   "source": [
    "#Random Forest is a different call, lets  try this out.\n",
    "rdt = RandomForestClassifier(random_state=1010, n_estimators=100, max_depth = 10)\n",
    "rdt_fit = rdt.fit(x_train[features], y_train['Target'])\n",
    "score = rdt.score(x_test, y_test)\n",
    "print (score)"
   ]
  },
  {
   "cell_type": "code",
   "execution_count": null,
   "metadata": {},
   "outputs": [],
   "source": []
  },
  {
   "cell_type": "code",
   "execution_count": null,
   "metadata": {},
   "outputs": [],
   "source": []
  },
  {
   "cell_type": "code",
   "execution_count": 20,
   "metadata": {},
   "outputs": [],
   "source": [
    "#I was following along with a demo and the author mentioned a way to visalize\n",
    "#the tree.  I haven't been able to get this to work yet.\n",
    "def visualize_tree(tree, feature_names):\n",
    "    \"\"\"Create tree png using graphviz.\n",
    "\n",
    "    Args\n",
    "    ----\n",
    "    tree -- scikit-learn DecsisionTree.\n",
    "    feature_names -- list of feature names.\n",
    "    \"\"\"\n",
    "    with open(\"dt.dot\", 'w') as f:\n",
    "        export_graphviz(tree, out_file=f,\n",
    "                        feature_names=feature_names)\n",
    "\n",
    "    command = [\"dot\", \"-Tpng\", \"dt.dot\", \"-o\", \"dt.png\"]\n",
    "    try:\n",
    "        subprocess.check_call(command)\n",
    "    except:\n",
    "        exit(\"Could not run dot, ie graphviz, to \"\n",
    "             \"produce visualization\")"
   ]
  },
  {
   "cell_type": "code",
   "execution_count": 21,
   "metadata": {},
   "outputs": [],
   "source": [
    "visualize_tree(dt, features)"
   ]
  },
  {
   "cell_type": "code",
   "execution_count": 51,
   "metadata": {},
   "outputs": [],
   "source": [
    "def encode_columns(df, df_mod2, target_column):\n",
    "    \"\"\"Change unique column values to integers\"\"\"\n",
    "    targets = df_mod2[target_column].unique()\n",
    "    map_to_int = {name: n for n, name in enumerate(targets)}\n",
    "    df_mod2[target_column] = df_mod2[target_column].replace(map_to_int)\n",
    "    \n",
    "    return"
   ]
  },
  {
   "cell_type": "code",
   "execution_count": 138,
   "metadata": {},
   "outputs": [],
   "source": [
    "df_mod2 = df.copy()\n",
    "encode_columns(df, df_mod2, 'preparative_route')"
   ]
  },
  {
   "cell_type": "code",
   "execution_count": 139,
   "metadata": {},
   "outputs": [
    {
     "data": {
      "text/plain": [
       "1098    0\n",
       "1031    1\n",
       "328     2\n",
       "1032    3\n",
       "124     2\n",
       "Name: preparative_route, dtype: int64"
      ]
     },
     "execution_count": 139,
     "metadata": {},
     "output_type": "execute_result"
    }
   ],
   "source": [
    "df_mod2['preparative_route'].head()"
   ]
  },
  {
   "cell_type": "code",
   "execution_count": 140,
   "metadata": {},
   "outputs": [],
   "source": [
    "reduced_df2 = df_mod2[['T(K)', 'Resist(Ohm.cm)', 'Seebeck(uV/K)', 'Resist(400K)', 'Conduct(S/cm)', 'preparative_route', \n",
    "                    'cell_volume(A^3)', 'average_atomic_volume', 'space_group', 'number_symmetry_elements', 'bin']]"
   ]
  },
  {
   "cell_type": "code",
   "execution_count": 141,
   "metadata": {},
   "outputs": [],
   "source": [
    "reduced_df3 = reduced_df2.dropna()"
   ]
  },
  {
   "cell_type": "code",
   "execution_count": 142,
   "metadata": {},
   "outputs": [],
   "source": [
    "df4, targets = encode_target(reduced_df3, 'bin')"
   ]
  },
  {
   "cell_type": "code",
   "execution_count": 159,
   "metadata": {},
   "outputs": [],
   "source": [
    "df4_x_1 = pd.DataFrame(df4[['T(K)', 'Resist(Ohm.cm)', 'Resist(400K)', 'Conduct(S/cm)', 'preparative_route', \n",
    "                    'cell_volume(A^3)', 'average_atomic_volume', 'space_group', 'number_symmetry_elements']])\n",
    "df4_y_1 = pd.DataFrame(df4['Target'])\n",
    "df4_reg_y_1 = pd.DataFrame(df4['Seebeck(uV/K)'])"
   ]
  },
  {
   "cell_type": "code",
   "execution_count": 162,
   "metadata": {},
   "outputs": [],
   "source": [
    "x_train_1, x_test_1 = train_test_split(df4_x_1, test_size=0.2)\n",
    "y_train_1, y_test_1 = train_test_split(df4_y_1, test_size=0.2)\n",
    "y_train_reg_1, y_train_reg_2 = train_test_split(df4_reg_y_1, test_size=0.2)"
   ]
  },
  {
   "cell_type": "code",
   "execution_count": 152,
   "metadata": {},
   "outputs": [],
   "source": [
    "features_1 = list(df4_x_1.columns[:9])"
   ]
  },
  {
   "cell_type": "code",
   "execution_count": 153,
   "metadata": {},
   "outputs": [
    {
     "name": "stdout",
     "output_type": "stream",
     "text": [
      "['T(K)', 'Resist(Ohm.cm)', 'Resist(400K)', 'Conduct(S/cm)', 'preparative_route', 'cell_volume(A^3)', 'average_atomic_volume', 'space_group', 'number_symmetry_elements']\n"
     ]
    }
   ],
   "source": [
    "print (features_1)"
   ]
  },
  {
   "cell_type": "code",
   "execution_count": 154,
   "metadata": {},
   "outputs": [],
   "source": [
    "dt_1 = DecisionTreeClassifier(max_depth = 10, random_state = 99)\n",
    "dt_fit_1 = dt_1.fit(x_train_1[features_1], y_train_1['Target'],)"
   ]
  },
  {
   "cell_type": "code",
   "execution_count": 156,
   "metadata": {},
   "outputs": [
    {
     "name": "stdout",
     "output_type": "stream",
     "text": [
      "0.014705882352941176\n"
     ]
    }
   ],
   "source": [
    "dt_pred_1 = dt_fit_1.score(x_test_1, y_test_1)\n",
    "print (dt_pred_1)"
   ]
  },
  {
   "cell_type": "code",
   "execution_count": null,
   "metadata": {},
   "outputs": [],
   "source": []
  },
  {
   "cell_type": "code",
   "execution_count": null,
   "metadata": {},
   "outputs": [],
   "source": []
  },
  {
   "cell_type": "code",
   "execution_count": 165,
   "metadata": {},
   "outputs": [],
   "source": [
    "rdt_1 = RandomForestRegressor(random_state=1010, n_estimators=100, max_depth = 10)\n",
    "rdt_fit_1 = rdt_1.fit(x_train_1[features_1], y_train_reg_1['Seebeck(uV/K)'])"
   ]
  },
  {
   "cell_type": "code",
   "execution_count": 166,
   "metadata": {},
   "outputs": [
    {
     "name": "stdout",
     "output_type": "stream",
     "text": [
      "-0.1205386828809325\n"
     ]
    }
   ],
   "source": [
    "rdt_pred_1 = rdt_fit_1.score(x_test_1, y_train_reg_2)\n",
    "print (rdt_pred)"
   ]
  },
  {
   "cell_type": "code",
   "execution_count": null,
   "metadata": {},
   "outputs": [],
   "source": []
  }
 ],
 "metadata": {
  "kernelspec": {
   "display_name": "Python 3",
   "language": "python",
   "name": "python3"
  },
  "language_info": {
   "codemirror_mode": {
    "name": "ipython",
    "version": 3
   },
   "file_extension": ".py",
   "mimetype": "text/x-python",
   "name": "python",
   "nbconvert_exporter": "python",
   "pygments_lexer": "ipython3",
   "version": "3.6.3"
  }
 },
 "nbformat": 4,
 "nbformat_minor": 2
}
