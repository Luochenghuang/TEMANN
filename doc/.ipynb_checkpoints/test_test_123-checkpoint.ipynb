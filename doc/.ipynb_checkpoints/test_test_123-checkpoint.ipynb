{
 "cells": [
  {
   "cell_type": "code",
<<<<<<< HEAD
   "execution_count": 10,
   "metadata": {
    "collapsed": false
   },
=======
   "execution_count": 1,
   "metadata": {},
>>>>>>> 63203cfef1f402149e918b27ed47b2d032e17955
   "outputs": [
    {
     "data": {
      "text/plain": [
<<<<<<< HEAD
       "'C:\\\\Users\\\\Huang\\\\Desktop'"
      ]
     },
     "execution_count": 10,
=======
       "'C:\\\\Users\\\\Luocheng\\\\Desktop\\\\546\\\\TEMANN\\\\doc'"
      ]
     },
     "execution_count": 1,
>>>>>>> 63203cfef1f402149e918b27ed47b2d032e17955
     "metadata": {},
     "output_type": "execute_result"
    }
   ],
   "source": [
    "import os\n",
    "os.getcwd()"
   ]
  },
  {
   "cell_type": "code",
<<<<<<< HEAD
   "execution_count": 11,
   "metadata": {
    "collapsed": true
   },
   "outputs": [],
   "source": [
    "os.chdir('../')"
=======
   "execution_count": 2,
   "metadata": {},
   "outputs": [],
   "source": [
    "os.chdir('../temann')"
>>>>>>> 63203cfef1f402149e918b27ed47b2d032e17955
   ]
  },
  {
   "cell_type": "code",
<<<<<<< HEAD
   "execution_count": 12,
   "metadata": {
    "collapsed": false
   },
   "outputs": [
    {
     "ename": "ImportError",
     "evalue": "cannot import name 'get_atmoic_info'",
     "output_type": "error",
     "traceback": [
      "\u001b[0;31m---------------------------------------------------------------------------\u001b[0m",
      "\u001b[0;31mImportError\u001b[0m                               Traceback (most recent call last)",
      "\u001b[0;32m<ipython-input-12-207bca816e67>\u001b[0m in \u001b[0;36m<module>\u001b[0;34m()\u001b[0m\n\u001b[1;32m      1\u001b[0m \u001b[1;32mimport\u001b[0m \u001b[0mDataSet\u001b[0m \u001b[1;32mas\u001b[0m \u001b[0mds\u001b[0m\u001b[1;33m\u001b[0m\u001b[0m\n\u001b[0;32m----> 2\u001b[0;31m \u001b[1;32mfrom\u001b[0m \u001b[0mtemann\u001b[0m\u001b[1;33m.\u001b[0m\u001b[0mquerry\u001b[0m \u001b[1;32mimport\u001b[0m \u001b[0mget_atmoic_info\u001b[0m\u001b[1;33m\u001b[0m\u001b[0m\n\u001b[0m",
      "\u001b[0;31mImportError\u001b[0m: cannot import name 'get_atmoic_info'"
=======
   "execution_count": 8,
   "metadata": {},
   "outputs": [],
   "source": [
    "from D"
   ]
  },
  {
   "cell_type": "code",
   "execution_count": 9,
   "metadata": {},
   "outputs": [
    {
     "ename": "AttributeError",
     "evalue": "module 'DataSet' has no attribute 'getData'",
     "output_type": "error",
     "traceback": [
      "\u001b[1;31m---------------------------------------------------------------------------\u001b[0m",
      "\u001b[1;31mAttributeError\u001b[0m                            Traceback (most recent call last)",
      "\u001b[1;32m<ipython-input-9-1bd1f7b7ed13>\u001b[0m in \u001b[0;36m<module>\u001b[1;34m()\u001b[0m\n\u001b[0;32m      1\u001b[0m \u001b[1;31m# create a new DataSet object\u001b[0m\u001b[1;33m\u001b[0m\u001b[1;33m\u001b[0m\u001b[0m\n\u001b[0;32m      2\u001b[0m \u001b[0mds\u001b[0m \u001b[1;33m=\u001b[0m \u001b[0mDataSet\u001b[0m\u001b[1;33m\u001b[0m\u001b[0m\n\u001b[1;32m----> 3\u001b[1;33m \u001b[0mds\u001b[0m\u001b[1;33m.\u001b[0m\u001b[0mgetData\u001b[0m\u001b[1;33m(\u001b[0m\u001b[1;34m'../data/TE_survey_csv_repaired.csv'\u001b[0m\u001b[1;33m)\u001b[0m\u001b[1;33m\u001b[0m\u001b[0m\n\u001b[0m\u001b[0;32m      4\u001b[0m \u001b[0mds\u001b[0m\u001b[1;33m.\u001b[0m\u001b[0mclean\u001b[0m\u001b[1;33m(\u001b[0m\u001b[1;33m)\u001b[0m\u001b[1;33m\u001b[0m\u001b[0m\n\u001b[0;32m      5\u001b[0m \u001b[0mds\u001b[0m\u001b[1;33m.\u001b[0m\u001b[0mgetInfo\u001b[0m\u001b[1;33m(\u001b[0m\u001b[1;33m)\u001b[0m\u001b[1;33m\u001b[0m\u001b[0m\n",
      "\u001b[1;31mAttributeError\u001b[0m: module 'DataSet' has no attribute 'getData'"
>>>>>>> 63203cfef1f402149e918b27ed47b2d032e17955
     ]
    }
   ],
   "source": [
<<<<<<< HEAD
    "import DataSet as ds\n",
    "from temann.querry import get_atmoic_info"
=======
    "# create a new DataSet object\n",
    "ds = DataSet\n",
    "ds.getData('../data/TE_survey_csv_repaired.csv')\n",
    "ds.clean()\n",
    "ds.getInfo()\n",
    "\n",
    "\n",
    "ds.drop(['Authors', 'DOI', 'Comments', 'Comments.1',\n",
    "         'Author of Unit Cell','Unit Cell DOI'])\n",
    "\n",
    "# use extrapolate_400K to extrapolate more row data\n",
    "new_ds = DataSet()\n",
    "new_ds.data = ds.extrapolate_400K(['preparative route'])\n",
    "print(new_ds.df)\n",
    "new_ds.getInfo()\n",
    "# test write to csv, you can find the new_ds.csv under data directory.\n",
    "new_ds.export_to('../data/new_ds')\n"
>>>>>>> 63203cfef1f402149e918b27ed47b2d032e17955
   ]
  },
  {
   "cell_type": "code",
   "execution_count": null,
<<<<<<< HEAD
   "metadata": {
    "collapsed": true
   },
=======
   "metadata": {},
>>>>>>> 63203cfef1f402149e918b27ed47b2d032e17955
   "outputs": [],
   "source": []
  }
 ],
 "metadata": {
  "kernelspec": {
   "display_name": "Python 3",
   "language": "python",
   "name": "python3"
  },
  "language_info": {
   "codemirror_mode": {
    "name": "ipython",
    "version": 3
   },
   "file_extension": ".py",
   "mimetype": "text/x-python",
   "name": "python",
   "nbconvert_exporter": "python",
   "pygments_lexer": "ipython3",
<<<<<<< HEAD
   "version": "3.6.2"
=======
   "version": "3.6.4"
>>>>>>> 63203cfef1f402149e918b27ed47b2d032e17955
  }
 },
 "nbformat": 4,
 "nbformat_minor": 2
}
