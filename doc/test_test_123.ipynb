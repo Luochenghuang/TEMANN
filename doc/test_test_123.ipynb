{
 "cells": [
  {
   "cell_type": "code",
   "execution_count": 3,
   "metadata": {},
   "outputs": [
    {
     "data": {
      "text/plain": [
       "'C:\\\\Users\\\\Luocheng\\\\Desktop\\\\546\\\\TEMANN\\\\doc'"
      ]
     },
     "execution_count": 3,
     "metadata": {},
     "output_type": "execute_result"
    }
   ],
   "source": [
    "import os\n",
    "os.getcwd()"
   ]
  },
  {
   "cell_type": "code",
   "execution_count": 4,
   "metadata": {},
   "outputs": [],
   "source": [
    "os.chdir('../temann')"
   ]
  },
  {
   "cell_type": "code",
   "execution_count": 5,
   "metadata": {},
   "outputs": [
    {
     "name": "stdout",
     "output_type": "stream",
     "text": [
      "1098 rows and 36 columns.\n",
      "Components are: \n",
      "T (K), Z*10^-4 reported, Resist. (Ohm.cm), Seebeck (uV/K), kappaZT,\n",
      "Resist. (400K), Seebeck (400K), Pf (W/K^2/m), ZT, kappa (W/mK), x,\n",
      "Formula, series, T Max, family, Conduct. (S/cm), Power Factor*T\n",
      "(W/mK), preparative route, final form, Authors, DOI, Comments,\n",
      "Comments.1, Cell Volume (A^3), Formula Units per Cell, Atoms per\n",
      "formula unit, total atoms per unit cell, average atomic volume, Author\n",
      "of Unit Cell, Unit Cell DOI, ICSD of structure, temp of ICSD (K), S^2,\n",
      "ke/ktotal, space group, # symmetry elements\n"
     ]
    }
   ],
   "source": [
    "import DataSet as ds\n"
   ]
  },
  {
   "cell_type": "code",
   "execution_count": null,
   "metadata": {},
   "outputs": [],
   "source": []
  }
 ],
 "metadata": {
  "kernelspec": {
   "display_name": "Python 3",
   "language": "python",
   "name": "python3"
  },
  "language_info": {
   "codemirror_mode": {
    "name": "ipython",
    "version": 3
   },
   "file_extension": ".py",
   "mimetype": "text/x-python",
   "name": "python",
   "nbconvert_exporter": "python",
   "pygments_lexer": "ipython3",
   "version": "3.6.3"
  }
 },
 "nbformat": 4,
 "nbformat_minor": 2
}
