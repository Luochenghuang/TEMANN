{
 "cells": [
  {
   "cell_type": "code",
   "execution_count": 2,
   "metadata": {
    "collapsed": false
   },
   "outputs": [
    {
     "name": "stderr",
     "output_type": "stream",
     "text": [
      "D:\\Users\\Huang\\Anaconda3\\lib\\site-packages\\h5py\\__init__.py:36: FutureWarning: Conversion of the second argument of issubdtype from `float` to `np.floating` is deprecated. In future, it will be treated as `np.float64 == np.dtype(float).type`.\n",
      "  from ._conv import register_converters as _register_converters\n",
      "Using TensorFlow backend.\n"
     ]
    }
   ],
   "source": [
    "from interpret import interpret\n",
    "from querry import *\n",
    "from sklearn.model_selection import train_test_split\n",
    "import matplotlib.pylab as plt\n",
    "from DataSet import DataSet\n",
    "\n",
    "import numpy\n",
    "import pandas\n",
    "from keras.models import Sequential\n",
    "from keras.layers import Dense\n",
    "from keras.wrappers.scikit_learn import KerasRegressor\n",
    "from sklearn.model_selection import cross_val_score\n",
    "from sklearn.model_selection import KFold\n",
    "from sklearn.preprocessing import StandardScaler\n",
    "from sklearn.pipeline import Pipeline"
   ]
  },
  {
   "cell_type": "code",
   "execution_count": 3,
   "metadata": {
    "collapsed": false
   },
   "outputs": [
    {
     "name": "stdout",
     "output_type": "stream",
     "text": [
      "1450 rows and 4 columns.\n",
      "Components are: \n",
      "Formula, Resist, Seebeck, T (K)\n"
     ]
    }
   ],
   "source": [
    "# fix random seed for reproducibility\n",
    "seed = 8888\n",
    "\n",
    "# create a new DataSet object\n",
    "dataset = DataSet()\n",
    "dataset.get_data('../data/TE_survey_csv_repaired.csv')\n",
    "\n",
    "dataset.clean()\n",
    "dataset.drop(['Authors', 'DOI', 'Comments', 'Comments.1', 'Author of Unit Cell','Unit Cell DOI'])\n",
    "\n",
    "# use extrapolate_400K to extrapolate more row data\n",
    "dataset_2 = DataSet()\n",
    "dataset_2.data = dataset.extrapolate_400K([])\n",
    "dataset_2.get_info()"
   ]
  },
  {
   "cell_type": "code",
   "execution_count": 4,
   "metadata": {
    "collapsed": false
   },
   "outputs": [],
   "source": [
    "# make an array containing the atomic descriptors\n",
    "array = [compound_short_descriptors(x) for x in dataset_2.df['Formula'].values]\n",
    "ndf = pd.DataFrame.from_records(array)\n",
    "ndf = ndf.join(dataset_2.df[['T (K)']])"
   ]
  },
  {
   "cell_type": "code",
   "execution_count": 5,
   "metadata": {
    "collapsed": false
   },
   "outputs": [
    {
     "name": "stdout",
     "output_type": "stream",
     "text": [
      "      0     1             2       3      4       5       6     7     8      9  \\\n",
      "0  1.00  16.0  3.400000e-08  3810.0  200.0  1757.0  1115.0  17.0  20.0  167.0   \n",
      "1  1.00  16.0  3.400000e-08  3810.0  200.0  1757.0  1115.0  17.0  20.0  167.0   \n",
      "2  1.00  16.0  3.400000e-08  3810.0  200.0  1757.0  1115.0  17.0  20.0  167.0   \n",
      "3  1.00  16.0  3.400000e-08  3810.0  200.0  1757.0  1115.0  17.0  20.0  167.0   \n",
      "4  0.98  16.0  3.400000e-08  3810.0  200.0  1757.0  1115.0  17.0  20.0  167.0   \n",
      "\n",
      "    ...     71   72   73   74   75   76   77   78   79   T (K)  \n",
      "0   ...    0.0  0.0  0.0  0.0  0.0  0.0  0.0  0.0  0.0   300.0  \n",
      "1   ...    0.0  0.0  0.0  0.0  0.0  0.0  0.0  0.0  0.0   400.0  \n",
      "2   ...    0.0  0.0  0.0  0.0  0.0  0.0  0.0  0.0  0.0   700.0  \n",
      "3   ...    0.0  0.0  0.0  0.0  0.0  0.0  0.0  0.0  0.0  1000.0  \n",
      "4   ...    0.0  0.0  0.0  0.0  0.0  0.0  0.0  0.0  0.0   300.0  \n",
      "\n",
      "[5 rows x 81 columns]\n"
     ]
    }
   ],
   "source": [
    "# clean up the data (get rid of strings and NaNs.)\n",
    "ndf.apply(pd.to_numeric)\n",
    "ndf = ndf.fillna(0)\n",
    "print(ndf.head())"
   ]
  },
  {
   "cell_type": "code",
   "execution_count": null,
   "metadata": {
    "collapsed": true
   },
   "outputs": [],
   "source": [
    "X = ndf.values\n",
    "Y = dataset_2.df[['Seebeck']].values"
   ]
  },
  {
   "cell_type": "code",
   "execution_count": null,
   "metadata": {
    "collapsed": false
   },
   "outputs": [],
   "source": [
    "X_train_pn, X_test_pn, y_train, y_test = train_test_split(X, Y,\n",
    "                                                    test_size=0.10,\n",
    "                                                    random_state=seed)\n",
    "\n",
    "# create the scaler from the training data only and keep it for later use\n",
    "X_train_scaler = StandardScaler().fit(X_train_pn)\n",
    "# apply the scaler transform to the training data\n",
    "X_train = X_train_scaler.transform(X_train_pn)\n",
    "# tranform the testing set\n",
    "X_test = X_train_scaler.transform(X_test_pn)\n",
    "\n",
    "# # create the scaler from the training data only and keep it for later use\n",
    "# y_train_scaler = StandardScaler().fit(y_train_pn)\n",
    "# # apply the scaler transform to the training data\n",
    "# y_train = y_train_scaler.transform(y_train_pn)\n",
    "# # tranform the testing set\n",
    "# y_test = y_train_scaler.transform(y_test_pn)"
   ]
  },
  {
   "cell_type": "code",
   "execution_count": null,
   "metadata": {
    "collapsed": true
   },
   "outputs": [],
   "source": [
    "# define base model\n",
    "def baseline_model():\n",
    "    # create model\n",
    "    model = Sequential()\n",
    "    model.add(Dense(81, input_dim=81, kernel_initializer='normal', activation='relu'))\n",
    "    model.add(Dense(100, input_dim=100, kernel_initializer='normal', activation='relu'))\n",
    "    model.add(Dense(20, input_dim=100, kernel_initializer='normal', activation='relu'))\n",
    "    model.add(Dense(1, kernel_initializer='normal'))\n",
    "    # Compile model\n",
    "    model.compile(loss='mean_squared_error', optimizer='adam')\n",
    "    return model"
   ]
  },
  {
   "cell_type": "code",
   "execution_count": null,
   "metadata": {
    "collapsed": false
   },
   "outputs": [],
   "source": [
    "numpy.random.seed(seed)\n",
    "# evaluate model with standardized dataset\n",
    "estimator = KerasRegressor(build_fn=baseline_model, epochs = 500, nb_epoch=1000, batch_size=100, verbose=2)"
   ]
  },
  {
   "cell_type": "code",
   "execution_count": null,
   "metadata": {
    "collapsed": false
   },
   "outputs": [],
   "source": [
    "kfold = KFold(n_splits=2, random_state=seed)\n",
    "results = cross_val_score(estimator, X_train, y_train, cv=kfold)\n",
    "print(\"Results: %.2f (%.2f) MSE\" % (results.mean(), results.std()))\n"
   ]
  },
  {
   "cell_type": "markdown",
   "metadata": {},
   "source": [
    "NOICE!!"
   ]
  },
  {
   "cell_type": "markdown",
   "metadata": {},
   "source": [
    "# Go Deeper"
   ]
  },
  {
   "cell_type": "code",
   "execution_count": null,
   "metadata": {
    "collapsed": true
   },
   "outputs": [],
   "source": [
    "# define the model\n",
    "def larger_model():\n",
    "    # create model\n",
    "    model = Sequential()\n",
    "    model.add(Dense(100, input_dim=81, kernel_initializer='normal', activation='relu'))\n",
    "    model.add(Dense(100, kernel_initializer='normal', activation='relu'))\n",
    "    model.add(Dense(100, kernel_initializer='normal', activation='relu'))\n",
    "    model.add(Dense(100, kernel_initializer='normal', activation='relu'))\n",
    "    model.add(Dense(100, kernel_initializer='normal', activation='relu'))\n",
    "    model.add(Dense(100, kernel_initializer='normal', activation='relu'))\n",
    "    model.add(Dense(1, kernel_initializer='normal'))\n",
    "    # Compile model\n",
    "    model.compile(loss='mean_squared_error', optimizer='adam')\n",
    "    return model"
   ]
  },
  {
   "cell_type": "code",
   "execution_count": null,
   "metadata": {
    "collapsed": true
   },
   "outputs": [],
   "source": [
    "numpy.random.seed(seed)\n",
    "# evaluate model with standardized dataset\n",
    "estimator = KerasRegressor(build_fn=baseline_model, epochs = 500, nb_epoch=1000, batch_size=100, verbose=2)"
   ]
  },
  {
   "cell_type": "code",
   "execution_count": null,
   "metadata": {
    "collapsed": false
   },
   "outputs": [],
   "source": [
    "results = cross_val_score(estimator, X_train, y_train, cv=kfold)\n",
    "print(\"Results: %.2f (%.2f) MSE\" % (results.mean(), results.std()))"
   ]
  },
  {
   "cell_type": "markdown",
   "metadata": {},
   "source": [
    "Daaaang. That's pretty good!"
   ]
  },
  {
   "cell_type": "markdown",
   "metadata": {},
   "source": [
    "# More Graphics"
   ]
  },
  {
   "cell_type": "code",
   "execution_count": null,
   "metadata": {
    "collapsed": false
   },
   "outputs": [],
   "source": [
    "from matplotlib import pyplot\n",
    "\n",
    "# create model\n",
    "model = Sequential()\n",
    "model.add(Dense(100, input_dim=81, kernel_initializer='normal', activation='relu'))\n",
    "model.add(Dense(100, kernel_initializer='normal', activation='relu'))\n",
    "model.add(Dense(100, kernel_initializer='normal', activation='relu'))\n",
    "model.add(Dense(100, kernel_initializer='normal', activation='relu'))\n",
    "model.add(Dense(100, kernel_initializer='normal', activation='relu'))\n",
    "model.add(Dense(100, kernel_initializer='normal', activation='relu'))\n",
    "model.add(Dense(1, kernel_initializer='normal'))\n",
    "model.compile(loss='mse', optimizer='adam', metrics=['mse', 'mae', 'mape', 'cosine'])\n",
    "# train model\n",
    "history = model.fit(X_train, y_train, epochs=20, batch_size=len(X), verbose=2)\n",
    "# plot metrics\n",
    "pyplot.plot(history.history['mean_squared_error'])\n",
    "pyplot.plot(history.history['mean_absolute_error'])\n",
    "pyplot.plot(history.history['mean_absolute_percentage_error'])\n",
    "pyplot.plot(history.history['cosine_proximity'])\n",
    "pyplot.show()"
   ]
  },
  {
   "cell_type": "code",
   "execution_count": null,
   "metadata": {
    "collapsed": true
   },
   "outputs": [],
   "source": [
    "def mean_squared_error(y_true, y_pred):\n",
    "    return K.mean(K.square(y_pred - y_true), axis=-1)"
   ]
  },
  {
   "cell_type": "code",
   "execution_count": null,
   "metadata": {
    "collapsed": true
   },
   "outputs": [],
   "source": [
    "from keras import backend\n",
    " \n",
    "def rmse(y_true, y_pred):\n",
    "    return backend.sqrt(backend.mean(backend.square(y_pred - y_true), axis=-1))"
   ]
  },
  {
   "cell_type": "code",
   "execution_count": null,
   "metadata": {
    "collapsed": false
   },
   "outputs": [],
   "source": [
    "# create model\n",
    "model.add(Dense(100, input_dim=81, kernel_initializer='normal', activation='relu'))\n",
    "model.add(Dense(100, kernel_initializer='normal', activation='relu'))\n",
    "model.add(Dense(100, kernel_initializer='normal', activation='relu'))\n",
    "model.add(Dense(100, kernel_initializer='normal', activation='relu'))\n",
    "model.add(Dense(100, kernel_initializer='normal', activation='relu'))\n",
    "model.add(Dense(100, kernel_initializer='normal', activation='relu'))\n",
    "model.add(Dense(1, kernel_initializer='normal'))\n",
    "model.compile(loss='mse', optimizer='adam', metrics=[rmse])\n",
    "# train model\n",
    "history = model.fit(X_train, y_train, epochs=20, batch_size=128, verbose=2)\n",
    "# plot metrics\n",
    "pyplot.plot(history.history['rmse'])\n",
    "pyplot.show()"
   ]
  },
  {
   "cell_type": "markdown",
   "metadata": {},
   "source": [
    "That is the RMSE metric."
   ]
  },
  {
   "cell_type": "code",
   "execution_count": null,
   "metadata": {
    "collapsed": false
   },
   "outputs": [],
   "source": [
    "np.concatenate((model.predict(X_test), y_test), axis=1)\n",
    "#visual inspection on the testing sets."
   ]
  },
  {
   "cell_type": "code",
   "execution_count": null,
   "metadata": {
    "collapsed": false
   },
   "outputs": [],
   "source": [
    "# just for testing, at the end.\n",
    "def test_data(compound, T):\n",
    "    \"\"\"Converts one sample to raw data for predicting thru ANN\"\"\"\n",
    "    array = np.zeros(80) # create an empty array with zeros\n",
    "    descriptors = np.array(compound_short_descriptors(compound)) # load descriptors \n",
    "    for index, x in np.ndenumerate(descriptors):\n",
    "        array[index] = x\n",
    "    ndf = pd.DataFrame(data=array)\n",
    "    # clean up the data (get rid of strings and NaNs.)\n",
    "    ndf.apply(pd.to_numeric)\n",
    "    ndf = ndf.fillna(0)\n",
    "    ndf = ndf.append([T])\n",
    "    array = X_train_scaler.fit_transform(ndf)\n",
    "    array = array.T\n",
    "    return array\n",
    "\n",
    "def predict(compound, T):\n",
    "    print(str(model.predict(test_data(compound, T))[0][0]) + '  (uV/K)')"
   ]
  },
  {
   "cell_type": "code",
   "execution_count": null,
   "metadata": {
    "collapsed": false
   },
   "outputs": [],
   "source": [
    "predict('Ca0.98La0.02MnO3', 300)"
   ]
  },
  {
   "cell_type": "code",
   "execution_count": null,
   "metadata": {
    "collapsed": false
   },
   "outputs": [],
   "source": [
    "predict('CaMnO3', 500)"
   ]
  },
  {
   "cell_type": "code",
   "execution_count": null,
   "metadata": {
    "collapsed": false
   },
   "outputs": [],
   "source": [
    "predict('FeSb2Ge0.1Te0.9', 500)"
   ]
  },
  {
   "cell_type": "code",
   "execution_count": null,
   "metadata": {
    "collapsed": false
   },
   "outputs": [],
   "source": [
    "predict('MnMnMn', 600)\n",
    "predict('MnMn', 600)\n",
    "predict('Mn', 600)"
   ]
  },
  {
   "cell_type": "code",
   "execution_count": null,
   "metadata": {
    "collapsed": false
   },
   "outputs": [],
   "source": [
    "predict('MnTe', 400)\n",
    "predict('MnTeMnTe', 400)\n",
    "predict('CaMnTe', 400)"
   ]
  },
  {
   "cell_type": "markdown",
   "metadata": {},
   "source": [
    "Pretty smart!"
   ]
  },
  {
   "cell_type": "code",
   "execution_count": null,
   "metadata": {
    "collapsed": true
   },
   "outputs": [],
   "source": []
  },
  {
   "cell_type": "markdown",
   "metadata": {},
   "source": [
    "COOL!\n",
    "Gotta go to sleep. See you next time."
   ]
  },
  {
   "cell_type": "code",
   "execution_count": null,
   "metadata": {
    "collapsed": true
   },
   "outputs": [],
   "source": []
  },
  {
   "cell_type": "code",
   "execution_count": null,
   "metadata": {
    "collapsed": true
   },
   "outputs": [],
   "source": []
  }
 ],
 "metadata": {
  "kernelspec": {
   "display_name": "Python 3",
   "language": "python",
   "name": "python3"
  },
  "language_info": {
   "codemirror_mode": {
    "name": "ipython",
    "version": 3
   },
   "file_extension": ".py",
   "mimetype": "text/x-python",
   "name": "python",
   "nbconvert_exporter": "python",
   "pygments_lexer": "ipython3",
   "version": "3.6.2"
  }
 },
 "nbformat": 4,
 "nbformat_minor": 2
}
