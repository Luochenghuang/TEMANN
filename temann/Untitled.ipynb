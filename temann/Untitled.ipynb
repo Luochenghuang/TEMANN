{
 "cells": [
  {
   "cell_type": "code",
   "execution_count": 5,
   "metadata": {},
   "outputs": [],
   "source": [
    "import re\n",
    "\n",
    "\n",
    "def get_empirical_formula(formula):\n",
    "    \"\"\"\n",
    "    Converts chemical formula to empirical formula and respective\n",
    "    coefficients for doping and proportions.\n",
    "\n",
    "    Example:\n",
    "    >>> emp_form = temann.get_empirical_formula(\"Ca0.98La0.02MnO3\")\n",
    "    >>> emp_form\n",
    "    {'Ca': 0.98, 'La': 0.02, 'Mn': 1, 'O': 3}\n",
    "    \"\"\"\n",
    "    assert not isinstance(formula, list), \\\n",
    "        \"Cannot pass a list. Input must be a string\"\n",
    "        \n",
    "    assert isinstance(formula, str), \"Must pass a string.\"\n",
    "    \n",
    "    # Split formula into individual elements and their proportions\n",
    "    proportions = re.findall(\"[A-Z][^A-Z]*\", formula)\n",
    "    \n",
    "    elements = {}\n",
    "    \n",
    "    # Split each group into element and coefficient\n",
    "    for pair in proportions:\n",
    "        if bool(re.search(r\"\\d\", pair)):\n",
    "            split = re.match(r\"([A-Z][a-z]*)([0-9]\\.*[0-9]*)\", pair)\n",
    "            if bool(re.search(r\"\\.\", split.group(2))):\n",
    "                elements[split.group(1)] = float(split.group(2))\n",
    "            else:\n",
    "                elements[split.group(1)] = int(split.group(2))\n",
    "        else:\n",
    "            elements[pair] = 1\n",
    "\n",
    "    return elements\n"
   ]
  },
  {
   "cell_type": "code",
   "execution_count": 7,
   "metadata": {},
   "outputs": [],
   "source": [
    "import pandas as pd\n",
    "import numpy as np\n",
    "import pymatgen as mg\n",
    "from pymatgen import MPRester\n",
    "\n",
    "a = MPRester('9Mh5d6mP4sgSBzeE')\n",
    "\n",
    "def get_atomic_info(element):\n",
    "    \"\"\"\n",
    "    inputes an element (Str), returns the properties\n",
    "    :return: list\n",
    "    \"\"\"\n",
    "\n",
    "    e = mg.Element(element)\n",
    "    # list of attribute keywords\n",
    "    keywords = [\"mendeleev_no\", \"electrical_resistivity\",\n",
    "                \"velocity_of_sound\", \"reflectivity\",\n",
    "                \"refractive_index\", \"poissons_ratio\", \"molar_volume\",\n",
    "                \"electronic_structure\", \"thermal_conductivity\",\n",
    "                \"boiling_point\", \"melting_point\",\n",
    "                \"critical_temperature\", \"superconduction_temperature\",\n",
    "                \"liquid_range\", \"bulk_modulus\", \"youngs_modulus\",\n",
    "                \"brinell_hardness\", \"rigidity_modulus\",\n",
    "                \"mineral_hardness\", \"vickers_hardness\",\n",
    "                \"density_of_solid\", \"atomic_radius_calculated\",\n",
    "                \"van_der_waals_radius\", \"atomic_orbitals\",\n",
    "                \"coefficient_of_linear_thermal_expansion\"]\n",
    "\n",
    "    properties = [getattr(e, x) for x in keywords]\n",
    "\n",
    "    return properties\n",
    "\n",
    "def get_short_atomic_info(element):\n",
    "    \"\"\"\n",
    "    inputs an element (Str), returns the properties\n",
    "    :return: list\n",
    "    \"\"\"\n",
    "\n",
    "    e = mg.Element(element)\n",
    "    # list of attribute keywords\n",
    "    keywords = [\"mendeleev_no\", \"electrical_resistivity\",\n",
    "                \"velocity_of_sound\", # \"reflectivity\",\n",
    "                #\"refractive_index\", \"poissons_ratio\", \"molar_volume\",\n",
    "                #\"electronic_structure\",\n",
    "                \"thermal_conductivity\",\n",
    "                \"boiling_point\", \"melting_point\",\n",
    "                #\"critical_temperature\",\n",
    "                # \"superconduction_temperature\",\n",
    "                #\"liquid_range\",\n",
    "                \"bulk_modulus\", \"youngs_modulus\",\n",
    "                \"brinell_hardness\", \"rigidity_modulus\",\n",
    "                \"mineral_hardness\", # \"vickers_hardness\",\n",
    "                \"density_of_solid\", \"atomic_radius_calculated\",\n",
    "                \"van_der_waals_radius\", # \"atomic_orbitals\",\n",
    "                \"coefficient_of_linear_thermal_expansion\"]\n",
    "\n",
    "    properties = [getattr(e, x) for x in keywords]\n",
    "    return properties\n",
    "\n",
    "\n",
    "def compound_to_descriptors(compound):\n",
    "    \"\"\"This converts the dictionary of compounds to a list of descriptors (raveled)\"\"\"\n",
    "    dict = get_empirical_formula(compound)\n",
    "    list = []\n",
    "    for key, value in dict.items():\n",
    "        list.extend([value] + get_atomic_info(key))\n",
    "\n",
    "    return list\n",
    "\n",
    "\n",
    "def compound_short_descriptors(compound):\n",
    "    \"\"\"This converts the dictionary of compounds to a list of desciptors (raveled)\n",
    "    This is a shorter version!\"\"\"\n",
    "    dict = get_empirical_formula(compound)\n",
    "    list = []\n",
    "    for key, value in dict.items():\n",
    "        list.extend([value] + get_short_atomic_info(key))\n",
    "\n",
    "    return list\n"
   ]
  },
  {
   "cell_type": "code",
   "execution_count": 12,
   "metadata": {},
   "outputs": [
    {
     "ename": "NameError",
     "evalue": "name 'C' is not defined",
     "output_type": "error",
     "traceback": [
      "\u001b[1;31m---------------------------------------------------------------------------\u001b[0m",
      "\u001b[1;31mNameError\u001b[0m                                 Traceback (most recent call last)",
      "\u001b[1;32m<ipython-input-12-a7a55cf3844e>\u001b[0m in \u001b[0;36m<module>\u001b[1;34m()\u001b[0m\n\u001b[1;32m----> 1\u001b[1;33m \u001b[0mget_atomic_info\u001b[0m\u001b[1;33m(\u001b[0m\u001b[0mC\u001b[0m\u001b[1;33m)\u001b[0m\u001b[1;33m\u001b[0m\u001b[0m\n\u001b[0m",
      "\u001b[1;31mNameError\u001b[0m: name 'C' is not defined"
     ]
    }
   ],
   "source": [
    "get_atomic_info(C)"
   ]
  },
  {
   "cell_type": "code",
   "execution_count": null,
   "metadata": {},
   "outputs": [],
   "source": [
    "word = 'Asdf'   \n",
    "word[0].isupper()"
   ]
  },
  {
   "cell_type": "code",
   "execution_count": null,
   "metadata": {},
   "outputs": [],
   "source": []
  },
  {
   "cell_type": "code",
   "execution_count": null,
   "metadata": {},
   "outputs": [],
   "source": []
  },
  {
   "cell_type": "code",
   "execution_count": null,
   "metadata": {},
   "outputs": [],
   "source": []
  }
 ],
 "metadata": {
  "kernelspec": {
   "display_name": "Python 3",
   "language": "python",
   "name": "python3"
  },
  "language_info": {
   "codemirror_mode": {
    "name": "ipython",
    "version": 3
   },
   "file_extension": ".py",
   "mimetype": "text/x-python",
   "name": "python",
   "nbconvert_exporter": "python",
   "pygments_lexer": "ipython3",
   "version": "3.6.3"
  }
 },
 "nbformat": 4,
 "nbformat_minor": 2
}
