{
 "cells": [
  {
   "cell_type": "code",
   "execution_count": 10,
   "metadata": {},
   "outputs": [],
   "source": [
    "from interpret import interpret\n",
    "from querry import *\n",
    "from sklearn.model_selection import train_test_split\n",
    "import matplotlib.pylab as plt\n",
    "from DataSet import DataSet\n",
    "\n",
    "from keras.models import Sequential\n",
    "from keras.layers import Dense\n",
    "from keras.wrappers.scikit_learn import KerasRegressor\n",
    "import matplotlib.pyplot as plt\n",
    "import numpy as np\n",
    "import pandas as pd\n",
    "from sklearn.model_selection import cross_val_score\n",
    "from sklearn.model_selection import KFold\n",
    "from sklearn.model_selection import train_test_split\n",
    "from sklearn.preprocessing import StandardScaler\n",
    "from sklearn.pipeline import Pipeline"
   ]
  },
  {
   "cell_type": "code",
   "execution_count": 11,
   "metadata": {},
   "outputs": [],
   "source": [
    "seed = 8888"
   ]
  },
  {
   "cell_type": "code",
   "execution_count": 13,
   "metadata": {},
   "outputs": [
    {
     "name": "stdout",
     "output_type": "stream",
     "text": [
      "1450 rows and 4 columns.\n",
      "Components are: \n",
      "Formula, Resist, Seebeck, T (K)\n"
     ]
    }
   ],
   "source": [
    "# create a new DataSet object\n",
    "dataset = DataSet()\n",
    "dataset.get_data('../data/TE_survey_csv_repaired.csv')\n",
    "\n",
    "dataset.clean()\n",
    "dataset.drop(['Authors', 'DOI', 'Comments', 'Comments.1', 'Author of Unit Cell','Unit Cell DOI'])\n",
    "\n",
    "# use extrapolate_400K to extrapolate more row data\n",
    "dataset_2 = DataSet()\n",
    "dataset_2.data = dataset.extrapolate_400K([])\n",
    "dataset_2.get_info()"
   ]
  },
  {
   "cell_type": "code",
   "execution_count": 43,
   "metadata": {},
   "outputs": [
    {
     "name": "stdout",
     "output_type": "stream",
     "text": [
      "           0     1             2       3      4       5        6      7  \\\n",
      "0     1.0000  16.0  3.400000e-08  3810.0  200.0  1757.0  1115.00   17.0   \n",
      "1     1.0000  16.0  3.400000e-08  3810.0  200.0  1757.0  1115.00   17.0   \n",
      "2     1.0000  16.0  3.400000e-08  3810.0  200.0  1757.0  1115.00   17.0   \n",
      "3     1.0000  16.0  3.400000e-08  3810.0  200.0  1757.0  1115.00   17.0   \n",
      "4     0.9800  16.0  3.400000e-08  3810.0  200.0  1757.0  1115.00   17.0   \n",
      "5     0.9800  16.0  3.400000e-08  3810.0  200.0  1757.0  1115.00   17.0   \n",
      "6     0.9800  16.0  3.400000e-08  3810.0  200.0  1757.0  1115.00   17.0   \n",
      "7     0.9800  16.0  3.400000e-08  3810.0  200.0  1757.0  1115.00   17.0   \n",
      "8     0.9600  16.0  3.400000e-08  3810.0  200.0  1757.0  1115.00   17.0   \n",
      "9     0.9600  16.0  3.400000e-08  3810.0  200.0  1757.0  1115.00   17.0   \n",
      "10    0.9600  16.0  3.400000e-08  3810.0  200.0  1757.0  1115.00   17.0   \n",
      "11    0.9600  16.0  3.400000e-08  3810.0  200.0  1757.0  1115.00   17.0   \n",
      "12    0.9400  16.0  3.400000e-08  3810.0  200.0  1757.0  1115.00   17.0   \n",
      "13    0.9400  16.0  3.400000e-08  3810.0  200.0  1757.0  1115.00   17.0   \n",
      "14    0.9400  16.0  3.400000e-08  3810.0  200.0  1757.0  1115.00   17.0   \n",
      "15    0.9400  16.0  3.400000e-08  3810.0  200.0  1757.0  1115.00   17.0   \n",
      "16    0.9200  16.0  3.400000e-08  3810.0  200.0  1757.0  1115.00   17.0   \n",
      "17    0.9200  16.0  3.400000e-08  3810.0  200.0  1757.0  1115.00   17.0   \n",
      "18    0.9200  16.0  3.400000e-08  3810.0  200.0  1757.0  1115.00   17.0   \n",
      "19    0.9200  16.0  3.400000e-08  3810.0  200.0  1757.0  1115.00   17.0   \n",
      "20    1.0000  67.0  7.200000e-08  4970.0   91.0  3186.0  1728.00  180.0   \n",
      "21    1.0000  67.0  7.200000e-08  4970.0   91.0  3186.0  1728.00  180.0   \n",
      "22    0.0024  12.0  9.500000e-08  6000.0   85.0  1615.0   453.69   11.0   \n",
      "23    0.0024  12.0  9.500000e-08  6000.0   85.0  1615.0   453.69   11.0   \n",
      "24    0.0024  12.0  9.500000e-08  6000.0   85.0  1615.0   453.69   11.0   \n",
      "25    0.0066  12.0  9.500000e-08  6000.0   85.0  1615.0   453.69   11.0   \n",
      "26    0.0066  12.0  9.500000e-08  6000.0   85.0  1615.0   453.69   11.0   \n",
      "27    0.0066  12.0  9.500000e-08  6000.0   85.0  1615.0   453.69   11.0   \n",
      "28    0.0184  12.0  9.500000e-08  6000.0   85.0  1615.0   453.69   11.0   \n",
      "29    0.0184  12.0  9.500000e-08  6000.0   85.0  1615.0   453.69   11.0   \n",
      "...      ...   ...           ...     ...    ...     ...      ...    ...   \n",
      "1420  1.0000  16.0  3.400000e-08  3810.0  200.0  1757.0  1115.00   17.0   \n",
      "1421  1.0000  16.0  3.400000e-08  3810.0  200.0  1757.0  1115.00   17.0   \n",
      "1422  2.0000  79.0  8.000000e-08  1215.0   82.0  2345.0   429.75    0.0   \n",
      "1423  2.0000  79.0  8.000000e-08  1215.0   82.0  2345.0   429.75    0.0   \n",
      "1424  2.0000  79.0  8.000000e-08  1215.0   82.0  2345.0   429.75    0.0   \n",
      "1425  2.0000  79.0  8.000000e-08  1215.0   82.0  2345.0   429.75    0.0   \n",
      "1426  1.9980  79.0  8.000000e-08  1215.0   82.0  2345.0   429.75    0.0   \n",
      "1427  1.9980  79.0  8.000000e-08  1215.0   82.0  2345.0   429.75    0.0   \n",
      "1428  1.9980  79.0  8.000000e-08  1215.0   82.0  2345.0   429.75    0.0   \n",
      "1429  1.9980  79.0  8.000000e-08  1215.0   82.0  2345.0   429.75    0.0   \n",
      "1430  1.9940  79.0  8.000000e-08  1215.0   82.0  2345.0   429.75    0.0   \n",
      "1431  1.9940  79.0  8.000000e-08  1215.0   82.0  2345.0   429.75    0.0   \n",
      "1432  1.9940  79.0  8.000000e-08  1215.0   82.0  2345.0   429.75    0.0   \n",
      "1433  1.9940  79.0  8.000000e-08  1215.0   82.0  2345.0   429.75    0.0   \n",
      "1434  1.9850  79.0  8.000000e-08  1215.0   82.0  2345.0   429.75    0.0   \n",
      "1435  1.9850  79.0  8.000000e-08  1215.0   82.0  2345.0   429.75    0.0   \n",
      "1436  1.9850  79.0  8.000000e-08  1215.0   82.0  2345.0   429.75    0.0   \n",
      "1437  1.9850  79.0  8.000000e-08  1215.0   82.0  2345.0   429.75    0.0   \n",
      "1438  1.9400  79.0  8.000000e-08  1215.0   82.0  2345.0   429.75    0.0   \n",
      "1439  1.9400  79.0  8.000000e-08  1215.0   82.0  2345.0   429.75    0.0   \n",
      "1440  1.9400  79.0  8.000000e-08  1215.0   82.0  2345.0   429.75    0.0   \n",
      "1441  1.9400  79.0  8.000000e-08  1215.0   82.0  2345.0   429.75    0.0   \n",
      "1442  1.9000  79.0  8.000000e-08  1215.0   82.0  2345.0   429.75    0.0   \n",
      "1443  1.9000  79.0  8.000000e-08  1215.0   82.0  2345.0   429.75    0.0   \n",
      "1444  1.9000  79.0  8.000000e-08  1215.0   82.0  2345.0   429.75    0.0   \n",
      "1445  1.9000  79.0  8.000000e-08  1215.0   82.0  2345.0   429.75    0.0   \n",
      "1446  1.8000  79.0  8.000000e-08  1215.0   82.0  2345.0   429.75    0.0   \n",
      "1447  1.8000  79.0  8.000000e-08  1215.0   82.0  2345.0   429.75    0.0   \n",
      "1448  1.8000  79.0  8.000000e-08  1215.0   82.0  2345.0   429.75    0.0   \n",
      "1449  1.8000  79.0  8.000000e-08  1215.0   82.0  2345.0   429.75    0.0   \n",
      "\n",
      "          8       9   ...     71   72   73   74   75   76   77   78   79  \\\n",
      "0      20.0  167.00   ...    0.0  0.0  0.0  0.0  0.0  0.0  0.0  0.0  0.0   \n",
      "1      20.0  167.00   ...    0.0  0.0  0.0  0.0  0.0  0.0  0.0  0.0  0.0   \n",
      "2      20.0  167.00   ...    0.0  0.0  0.0  0.0  0.0  0.0  0.0  0.0  0.0   \n",
      "3      20.0  167.00   ...    0.0  0.0  0.0  0.0  0.0  0.0  0.0  0.0  0.0   \n",
      "4      20.0  167.00   ...    0.0  0.0  0.0  0.0  0.0  0.0  0.0  0.0  0.0   \n",
      "5      20.0  167.00   ...    0.0  0.0  0.0  0.0  0.0  0.0  0.0  0.0  0.0   \n",
      "6      20.0  167.00   ...    0.0  0.0  0.0  0.0  0.0  0.0  0.0  0.0  0.0   \n",
      "7      20.0  167.00   ...    0.0  0.0  0.0  0.0  0.0  0.0  0.0  0.0  0.0   \n",
      "8      20.0  167.00   ...    0.0  0.0  0.0  0.0  0.0  0.0  0.0  0.0  0.0   \n",
      "9      20.0  167.00   ...    0.0  0.0  0.0  0.0  0.0  0.0  0.0  0.0  0.0   \n",
      "10     20.0  167.00   ...    0.0  0.0  0.0  0.0  0.0  0.0  0.0  0.0  0.0   \n",
      "11     20.0  167.00   ...    0.0  0.0  0.0  0.0  0.0  0.0  0.0  0.0  0.0   \n",
      "12     20.0  167.00   ...    0.0  0.0  0.0  0.0  0.0  0.0  0.0  0.0  0.0   \n",
      "13     20.0  167.00   ...    0.0  0.0  0.0  0.0  0.0  0.0  0.0  0.0  0.0   \n",
      "14     20.0  167.00   ...    0.0  0.0  0.0  0.0  0.0  0.0  0.0  0.0  0.0   \n",
      "15     20.0  167.00   ...    0.0  0.0  0.0  0.0  0.0  0.0  0.0  0.0  0.0   \n",
      "16     20.0  167.00   ...    0.0  0.0  0.0  0.0  0.0  0.0  0.0  0.0  0.0   \n",
      "17     20.0  167.00   ...    0.0  0.0  0.0  0.0  0.0  0.0  0.0  0.0  0.0   \n",
      "18     20.0  167.00   ...    0.0  0.0  0.0  0.0  0.0  0.0  0.0  0.0  0.0   \n",
      "19     20.0  167.00   ...    0.0  0.0  0.0  0.0  0.0  0.0  0.0  0.0  0.0   \n",
      "20    200.0  700.00   ...    0.0  0.0  0.0  0.0  0.0  0.0  0.0  0.0  0.0   \n",
      "21    200.0  700.00   ...    0.0  0.0  0.0  0.0  0.0  0.0  0.0  0.0  0.0   \n",
      "22      4.9    0.00   ...    0.0  0.0  0.0  0.0  0.0  0.0  0.0  0.0  0.0   \n",
      "23      4.9    0.00   ...    0.0  0.0  0.0  0.0  0.0  0.0  0.0  0.0  0.0   \n",
      "24      4.9    0.00   ...    0.0  0.0  0.0  0.0  0.0  0.0  0.0  0.0  0.0   \n",
      "25      4.9    0.00   ...    0.0  0.0  0.0  0.0  0.0  0.0  0.0  0.0  0.0   \n",
      "26      4.9    0.00   ...    0.0  0.0  0.0  0.0  0.0  0.0  0.0  0.0  0.0   \n",
      "27      4.9    0.00   ...    0.0  0.0  0.0  0.0  0.0  0.0  0.0  0.0  0.0   \n",
      "28      4.9    0.00   ...    0.0  0.0  0.0  0.0  0.0  0.0  0.0  0.0  0.0   \n",
      "29      4.9    0.00   ...    0.0  0.0  0.0  0.0  0.0  0.0  0.0  0.0  0.0   \n",
      "...     ...     ...   ...    ...  ...  ...  ...  ...  ...  ...  ...  ...   \n",
      "1420   20.0  167.00   ...    0.0  0.0  0.0  0.0  0.0  0.0  0.0  0.0  0.0   \n",
      "1421   20.0  167.00   ...    0.0  0.0  0.0  0.0  0.0  0.0  0.0  0.0  0.0   \n",
      "1422   11.0    8.83   ...    0.0  0.0  0.0  0.0  0.0  0.0  0.0  0.0  0.0   \n",
      "1423   11.0    8.83   ...    0.0  0.0  0.0  0.0  0.0  0.0  0.0  0.0  0.0   \n",
      "1424   11.0    8.83   ...    0.0  0.0  0.0  0.0  0.0  0.0  0.0  0.0  0.0   \n",
      "1425   11.0    8.83   ...    0.0  0.0  0.0  0.0  0.0  0.0  0.0  0.0  0.0   \n",
      "1426   11.0    8.83   ...    0.0  0.0  0.0  0.0  0.0  0.0  0.0  0.0  0.0   \n",
      "1427   11.0    8.83   ...    0.0  0.0  0.0  0.0  0.0  0.0  0.0  0.0  0.0   \n",
      "1428   11.0    8.83   ...    0.0  0.0  0.0  0.0  0.0  0.0  0.0  0.0  0.0   \n",
      "1429   11.0    8.83   ...    0.0  0.0  0.0  0.0  0.0  0.0  0.0  0.0  0.0   \n",
      "1430   11.0    8.83   ...    0.0  0.0  0.0  0.0  0.0  0.0  0.0  0.0  0.0   \n",
      "1431   11.0    8.83   ...    0.0  0.0  0.0  0.0  0.0  0.0  0.0  0.0  0.0   \n",
      "1432   11.0    8.83   ...    0.0  0.0  0.0  0.0  0.0  0.0  0.0  0.0  0.0   \n",
      "1433   11.0    8.83   ...    0.0  0.0  0.0  0.0  0.0  0.0  0.0  0.0  0.0   \n",
      "1434   11.0    8.83   ...    0.0  0.0  0.0  0.0  0.0  0.0  0.0  0.0  0.0   \n",
      "1435   11.0    8.83   ...    0.0  0.0  0.0  0.0  0.0  0.0  0.0  0.0  0.0   \n",
      "1436   11.0    8.83   ...    0.0  0.0  0.0  0.0  0.0  0.0  0.0  0.0  0.0   \n",
      "1437   11.0    8.83   ...    0.0  0.0  0.0  0.0  0.0  0.0  0.0  0.0  0.0   \n",
      "1438   11.0    8.83   ...    0.0  0.0  0.0  0.0  0.0  0.0  0.0  0.0  0.0   \n",
      "1439   11.0    8.83   ...    0.0  0.0  0.0  0.0  0.0  0.0  0.0  0.0  0.0   \n",
      "1440   11.0    8.83   ...    0.0  0.0  0.0  0.0  0.0  0.0  0.0  0.0  0.0   \n",
      "1441   11.0    8.83   ...    0.0  0.0  0.0  0.0  0.0  0.0  0.0  0.0  0.0   \n",
      "1442   11.0    8.83   ...    0.0  0.0  0.0  0.0  0.0  0.0  0.0  0.0  0.0   \n",
      "1443   11.0    8.83   ...    0.0  0.0  0.0  0.0  0.0  0.0  0.0  0.0  0.0   \n",
      "1444   11.0    8.83   ...    0.0  0.0  0.0  0.0  0.0  0.0  0.0  0.0  0.0   \n",
      "1445   11.0    8.83   ...    0.0  0.0  0.0  0.0  0.0  0.0  0.0  0.0  0.0   \n",
      "1446   11.0    8.83   ...    0.0  0.0  0.0  0.0  0.0  0.0  0.0  0.0  0.0   \n",
      "1447   11.0    8.83   ...    0.0  0.0  0.0  0.0  0.0  0.0  0.0  0.0  0.0   \n",
      "1448   11.0    8.83   ...    0.0  0.0  0.0  0.0  0.0  0.0  0.0  0.0  0.0   \n",
      "1449   11.0    8.83   ...    0.0  0.0  0.0  0.0  0.0  0.0  0.0  0.0  0.0   \n",
      "\n",
      "       T (K)  \n",
      "0      300.0  \n",
      "1      400.0  \n",
      "2      700.0  \n",
      "3     1000.0  \n",
      "4      300.0  \n",
      "5      400.0  \n",
      "6      700.0  \n",
      "7     1000.0  \n",
      "8      300.0  \n",
      "9      400.0  \n",
      "10     700.0  \n",
      "11    1000.0  \n",
      "12     300.0  \n",
      "13     400.0  \n",
      "14     700.0  \n",
      "15    1000.0  \n",
      "16     300.0  \n",
      "17     400.0  \n",
      "18     700.0  \n",
      "19    1000.0  \n",
      "20     700.0  \n",
      "21    1000.0  \n",
      "22     400.0  \n",
      "23     700.0  \n",
      "24    1000.0  \n",
      "25     400.0  \n",
      "26     700.0  \n",
      "27    1000.0  \n",
      "28     400.0  \n",
      "29     700.0  \n",
      "...      ...  \n",
      "1420   400.0  \n",
      "1421   400.0  \n",
      "1422   400.0  \n",
      "1423   400.0  \n",
      "1424   400.0  \n",
      "1425   400.0  \n",
      "1426   400.0  \n",
      "1427   400.0  \n",
      "1428   400.0  \n",
      "1429   400.0  \n",
      "1430   400.0  \n",
      "1431   400.0  \n",
      "1432   400.0  \n",
      "1433   400.0  \n",
      "1434   400.0  \n",
      "1435   400.0  \n",
      "1436   400.0  \n",
      "1437   400.0  \n",
      "1438   400.0  \n",
      "1439   400.0  \n",
      "1440   400.0  \n",
      "1441   400.0  \n",
      "1442   400.0  \n",
      "1443   400.0  \n",
      "1444   400.0  \n",
      "1445   400.0  \n",
      "1446   400.0  \n",
      "1447   400.0  \n",
      "1448   400.0  \n",
      "1449   400.0  \n",
      "\n",
      "[1450 rows x 81 columns]\n"
     ]
    }
   ],
   "source": [
    "# make an array containing the atomic descriptors\n",
    "array = [compound_short_descriptors(x) for x in dataset_2.df['Formula'].values]\n",
    "ndf = pd.DataFrame.from_records(array)\n",
    "ndf = ndf.join(dataset_2.df[['T (K)']])\n",
    "ndf = ndf.fillna(0)\n",
    "print(ndf) # looks good!"
   ]
  },
  {
   "cell_type": "code",
   "execution_count": 85,
   "metadata": {},
   "outputs": [],
   "source": [
    "X = ndf.values\n",
    "Y = dataset_2.df[['Seebeck']].values"
   ]
  },
  {
   "cell_type": "code",
   "execution_count": 47,
   "metadata": {},
   "outputs": [],
   "source": [
    "X_train_pn, X_test_pn, y_train, y_test = train_test_split(X, Y,\n",
    "                                                    test_size=0.20,\n",
    "                                                    random_state=seed)\n",
    "\n",
    "# create the scaler from the training data only and keep it for later use\n",
    "X_train_scaler = StandardScaler().fit(X_train_pn)\n",
    "# apply the scaler transform to the training data\n",
    "X_train = X_train_scaler.transform(X_train_pn)\n",
    "# tranform the testing set\n",
    "X_test = X_train_scaler.transform(X_test_pn)\n"
   ]
  },
  {
   "cell_type": "code",
   "execution_count": 97,
   "metadata": {},
   "outputs": [],
   "source": [
    "def medium_model():\n",
    "    # assemble the structure\n",
    "    model = Sequential()\n",
    "    model.add(Dense(81, input_dim=81, kernel_initializer='normal', activation='relu'))\n",
    "    model.add(Dense(100, kernel_initializer='normal', activation='relu'))\n",
    "    model.add(Dense(1, kernel_initializer='normal', activation='sigmoid'))\n",
    "    # compile the model\n",
    "    model.compile(loss='mean_squared_error', optimizer='adam')\n",
    "    return model"
   ]
  },
  {
   "cell_type": "code",
   "execution_count": 57,
   "metadata": {
    "scrolled": true
   },
   "outputs": [
    {
     "name": "stdout",
     "output_type": "stream",
     "text": [
      "final MSE for train is 3305.80 and for validation is 11416.19\n"
     ]
    }
   ],
   "source": [
    "# initialize the andom seed as this is used to generate\n",
    "# the starting weights\n",
    "np.random.seed(seed)\n",
    "# create the NN framework\n",
    "estimator = KerasRegressor(build_fn=medium_model,\n",
    "        epochs=400, batch_size=25000, verbose=0)\n",
    "history = estimator.fit(X_train, y_train, validation_split=0.33, epochs=400, \n",
    "        batch_size=10000, verbose=0)\n",
    "print(\"final MSE for train is %.2f and for validation is %.2f\" % \n",
    "      (history.history['loss'][-1], history.history['val_loss'][-1]))"
   ]
  },
  {
   "cell_type": "code",
   "execution_count": 111,
   "metadata": {},
   "outputs": [
    {
     "data": {
      "image/png": "[encoded data removed]",
      "text/plain": [
       "<matplotlib.figure.Figure at 0x206083a7a90>"
      ]
     },
     "metadata": {},
     "output_type": "display_data"
    }
   ],
   "source": [
    "# summarize history for loss\n",
    "plt.plot(history.history['loss'])\n",
    "plt.plot(history.history['val_loss'])\n",
    "plt.title('model loss')\n",
    "plt.ylabel('loss')\n",
    "plt.xlabel('epoch')\n",
    "plt.legend(['train', 'validation'], loc='upper left')\n",
    "plt.show()"
   ]
  },
  {
   "cell_type": "code",
   "execution_count": 112,
   "metadata": {},
   "outputs": [
    {
     "name": "stdout",
     "output_type": "stream",
     "text": [
      "290/290 [==============================] - 0s 54us/step\n",
      "test set mse is 13216.33\n"
     ]
    }
   ],
   "source": [
    "test_loss = estimator.model.evaluate(X_test, y_test)\n",
    "print(\"test set mse is %.2f\" % test_loss)"
   ]
  },
  {
   "cell_type": "code",
   "execution_count": 118,
   "metadata": {},
   "outputs": [],
   "source": [
    "def test_data(compound, T):\n",
    "    \"\"\"Converts one sample to raw data for predicting thru ANN\"\"\"\n",
    "    array = compound_short_descriptors(compound) + [T]\n",
    "    array = X_train_scaler.transform(X_train_pn)\n",
    "    return np.array(array)"
   ]
  },
  {
   "cell_type": "code",
   "execution_count": null,
   "metadata": {},
   "outputs": [],
   "source": [
    "model = Sequential([\n",
    "    Dense(16, input_shape=(1,), activation='relu'),\n",
    "    Dense(32, activation='relu'),w\n",
    "    Dense(1,activation='Softmax')\n",
    "])"
   ]
  }
 ],
 "metadata": {
  "kernelspec": {
   "display_name": "Python 3",
   "language": "python",
   "name": "python3"
  },
  "language_info": {
   "codemirror_mode": {
    "name": "ipython",
    "version": 3
   },
   "file_extension": ".py",
   "mimetype": "text/x-python",
   "name": "python",
   "nbconvert_exporter": "python",
   "pygments_lexer": "ipython3",
   "version": "3.6.4"
  }
 },
 "nbformat": 4,
 "nbformat_minor": 2
}
